{
  "nbformat": 4,
  "nbformat_minor": 0,
  "metadata": {
    "colab": {
      "provenance": [],
      "authorship_tag": "ABX9TyP1v9udDHrL6P1sSqA1OwJV",
      "include_colab_link": true
    },
    "kernelspec": {
      "name": "python3",
      "display_name": "Python 3"
    },
    "language_info": {
      "name": "python"
    }
  },
  "cells": [
    {
      "cell_type": "markdown",
      "metadata": {
        "id": "view-in-github",
        "colab_type": "text"
      },
      "source": [
        "<a href=\"https://colab.research.google.com/github/HumbertoJRR/Precticas/blob/main/Clasificacion_de_valor_de_clientes.ipynb\" target=\"_parent\"><img src=\"https://colab.research.google.com/assets/colab-badge.svg\" alt=\"Open In Colab\"/></a>"
      ]
    },
    {
      "cell_type": "markdown",
      "source": [
        "# Importamos las librerias"
      ],
      "metadata": {
        "id": "_Nzpxjso9u3b"
      }
    },
    {
      "cell_type": "code",
      "execution_count": 1,
      "metadata": {
        "id": "KjlcQoT978cS"
      },
      "outputs": [],
      "source": [
        "#Importamos las librerias que se utilizaran\n",
        "import numpy as np # linear algebra\n",
        "import numpy as np # linear algebra\n",
        "import pandas as pd # data processing\n",
        "import matplotlib.pyplot as plt\n",
        "import seaborn as sns\n",
        "import os\n",
        "from wordcloud import WordCloud\n",
        "from sklearn.preprocessing import LabelEncoder\n",
        "from sklearn.metrics import confusion_matrix\n",
        "from sklearn.metrics import classification_report\n",
        "from sklearn.model_selection import train_test_split\n",
        "from sklearn.linear_model import LogisticRegression\n",
        "from sklearn.decomposition import PCA\n",
        "from sklearn.tree import DecisionTreeClassifier\n",
        "from pylab import rcParams\n",
        "from imblearn.under_sampling import NearMiss\n",
        "from imblearn.over_sampling import RandomOverSampler\n",
        "from imblearn.combine import SMOTETomek\n",
        "from imblearn.ensemble import BalancedBaggingClassifier\n",
        "from collections import Counter"
      ]
    },
    {
      "cell_type": "markdown",
      "source": [
        "# Leemos y analizamos nuestra base"
      ],
      "metadata": {
        "id": "fMOMTN0R99ae"
      }
    },
    {
      "cell_type": "code",
      "source": [
        "#Leemos la base\n",
        "CLV=pd.read_csv('/content/CLV-Clasificacion.csv')\n",
        "CLV.head(5)"
      ],
      "metadata": {
        "colab": {
          "base_uri": "https://localhost:8080/",
          "height": 461
        },
        "id": "EyRyG8zx8amH",
        "outputId": "252ab0d4-6be9-4465-8fd4-deb8b7bea7a4"
      },
      "execution_count": 2,
      "outputs": [
        {
          "output_type": "execute_result",
          "data": {
            "text/plain": [
              "        ID          CLV  Ingresos  Monthly Premium Auto  \\\n",
              "0  FQ61281  83325.38119     58958                   231   \n",
              "1  YC54142  74228.51604         0                   242   \n",
              "2  BP23267  73225.95652     39547                   202   \n",
              "3  KH55886  67907.27050     78310                   192   \n",
              "4  SK66747  66025.75407     33481                   188   \n",
              "\n",
              "   Meses ultima reclamacion  Meses desde incio de la poliza  \\\n",
              "0                        31                              74   \n",
              "1                         1                              34   \n",
              "2                        11                              21   \n",
              "3                        34                              18   \n",
              "4                        28                              46   \n",
              "\n",
              "   Num quejas abiertas  Numero de polizas  Importe total de la reclamacion  \\\n",
              "0                    0                  2                      1108.800000   \n",
              "1                    0                  2                      1742.400000   \n",
              "2                    0                  2                       969.600000   \n",
              "3                    1                  2                       151.711475   \n",
              "4                    0                  2                      1194.892002   \n",
              "\n",
              "  Response cobertura             Educacion Estatus de empleo Genero  \\\n",
              "0       No  Extended  High School or Below          Employed      M   \n",
              "1       No  Extended  High School or Below        Unemployed      M   \n",
              "2       No  Extended              Bachelor          Employed      F   \n",
              "3       No   Premium              Bachelor          Employed      M   \n",
              "4       No     Basic              Bachelor          Employed      M   \n",
              "\n",
              "  Location Code Estatus marital tipo de poliza clase de vehiculo Clasificacion  \n",
              "0      Suburban         Married  Personal Auto        Luxury Car          Alto  \n",
              "1      Suburban          Single  Personal Auto        Luxury Car          Alto  \n",
              "2      Suburban         Married  Personal Auto        Luxury SUV          Alto  \n",
              "3         Rural         Married  Personal Auto        Sports Car          Alto  \n",
              "4      Suburban          Single  Personal Auto        Luxury SUV          Alto  "
            ],
            "text/html": [
              "\n",
              "  <div id=\"df-d5bb179e-926c-4ee7-b81a-6ce3e554bf04\">\n",
              "    <div class=\"colab-df-container\">\n",
              "      <div>\n",
              "<style scoped>\n",
              "    .dataframe tbody tr th:only-of-type {\n",
              "        vertical-align: middle;\n",
              "    }\n",
              "\n",
              "    .dataframe tbody tr th {\n",
              "        vertical-align: top;\n",
              "    }\n",
              "\n",
              "    .dataframe thead th {\n",
              "        text-align: right;\n",
              "    }\n",
              "</style>\n",
              "<table border=\"1\" class=\"dataframe\">\n",
              "  <thead>\n",
              "    <tr style=\"text-align: right;\">\n",
              "      <th></th>\n",
              "      <th>ID</th>\n",
              "      <th>CLV</th>\n",
              "      <th>Ingresos</th>\n",
              "      <th>Monthly Premium Auto</th>\n",
              "      <th>Meses ultima reclamacion</th>\n",
              "      <th>Meses desde incio de la poliza</th>\n",
              "      <th>Num quejas abiertas</th>\n",
              "      <th>Numero de polizas</th>\n",
              "      <th>Importe total de la reclamacion</th>\n",
              "      <th>Response</th>\n",
              "      <th>cobertura</th>\n",
              "      <th>Educacion</th>\n",
              "      <th>Estatus de empleo</th>\n",
              "      <th>Genero</th>\n",
              "      <th>Location Code</th>\n",
              "      <th>Estatus marital</th>\n",
              "      <th>tipo de poliza</th>\n",
              "      <th>clase de vehiculo</th>\n",
              "      <th>Clasificacion</th>\n",
              "    </tr>\n",
              "  </thead>\n",
              "  <tbody>\n",
              "    <tr>\n",
              "      <th>0</th>\n",
              "      <td>FQ61281</td>\n",
              "      <td>83325.38119</td>\n",
              "      <td>58958</td>\n",
              "      <td>231</td>\n",
              "      <td>31</td>\n",
              "      <td>74</td>\n",
              "      <td>0</td>\n",
              "      <td>2</td>\n",
              "      <td>1108.800000</td>\n",
              "      <td>No</td>\n",
              "      <td>Extended</td>\n",
              "      <td>High School or Below</td>\n",
              "      <td>Employed</td>\n",
              "      <td>M</td>\n",
              "      <td>Suburban</td>\n",
              "      <td>Married</td>\n",
              "      <td>Personal Auto</td>\n",
              "      <td>Luxury Car</td>\n",
              "      <td>Alto</td>\n",
              "    </tr>\n",
              "    <tr>\n",
              "      <th>1</th>\n",
              "      <td>YC54142</td>\n",
              "      <td>74228.51604</td>\n",
              "      <td>0</td>\n",
              "      <td>242</td>\n",
              "      <td>1</td>\n",
              "      <td>34</td>\n",
              "      <td>0</td>\n",
              "      <td>2</td>\n",
              "      <td>1742.400000</td>\n",
              "      <td>No</td>\n",
              "      <td>Extended</td>\n",
              "      <td>High School or Below</td>\n",
              "      <td>Unemployed</td>\n",
              "      <td>M</td>\n",
              "      <td>Suburban</td>\n",
              "      <td>Single</td>\n",
              "      <td>Personal Auto</td>\n",
              "      <td>Luxury Car</td>\n",
              "      <td>Alto</td>\n",
              "    </tr>\n",
              "    <tr>\n",
              "      <th>2</th>\n",
              "      <td>BP23267</td>\n",
              "      <td>73225.95652</td>\n",
              "      <td>39547</td>\n",
              "      <td>202</td>\n",
              "      <td>11</td>\n",
              "      <td>21</td>\n",
              "      <td>0</td>\n",
              "      <td>2</td>\n",
              "      <td>969.600000</td>\n",
              "      <td>No</td>\n",
              "      <td>Extended</td>\n",
              "      <td>Bachelor</td>\n",
              "      <td>Employed</td>\n",
              "      <td>F</td>\n",
              "      <td>Suburban</td>\n",
              "      <td>Married</td>\n",
              "      <td>Personal Auto</td>\n",
              "      <td>Luxury SUV</td>\n",
              "      <td>Alto</td>\n",
              "    </tr>\n",
              "    <tr>\n",
              "      <th>3</th>\n",
              "      <td>KH55886</td>\n",
              "      <td>67907.27050</td>\n",
              "      <td>78310</td>\n",
              "      <td>192</td>\n",
              "      <td>34</td>\n",
              "      <td>18</td>\n",
              "      <td>1</td>\n",
              "      <td>2</td>\n",
              "      <td>151.711475</td>\n",
              "      <td>No</td>\n",
              "      <td>Premium</td>\n",
              "      <td>Bachelor</td>\n",
              "      <td>Employed</td>\n",
              "      <td>M</td>\n",
              "      <td>Rural</td>\n",
              "      <td>Married</td>\n",
              "      <td>Personal Auto</td>\n",
              "      <td>Sports Car</td>\n",
              "      <td>Alto</td>\n",
              "    </tr>\n",
              "    <tr>\n",
              "      <th>4</th>\n",
              "      <td>SK66747</td>\n",
              "      <td>66025.75407</td>\n",
              "      <td>33481</td>\n",
              "      <td>188</td>\n",
              "      <td>28</td>\n",
              "      <td>46</td>\n",
              "      <td>0</td>\n",
              "      <td>2</td>\n",
              "      <td>1194.892002</td>\n",
              "      <td>No</td>\n",
              "      <td>Basic</td>\n",
              "      <td>Bachelor</td>\n",
              "      <td>Employed</td>\n",
              "      <td>M</td>\n",
              "      <td>Suburban</td>\n",
              "      <td>Single</td>\n",
              "      <td>Personal Auto</td>\n",
              "      <td>Luxury SUV</td>\n",
              "      <td>Alto</td>\n",
              "    </tr>\n",
              "  </tbody>\n",
              "</table>\n",
              "</div>\n",
              "      <button class=\"colab-df-convert\" onclick=\"convertToInteractive('df-d5bb179e-926c-4ee7-b81a-6ce3e554bf04')\"\n",
              "              title=\"Convert this dataframe to an interactive table.\"\n",
              "              style=\"display:none;\">\n",
              "        \n",
              "  <svg xmlns=\"http://www.w3.org/2000/svg\" height=\"24px\"viewBox=\"0 0 24 24\"\n",
              "       width=\"24px\">\n",
              "    <path d=\"M0 0h24v24H0V0z\" fill=\"none\"/>\n",
              "    <path d=\"M18.56 5.44l.94 2.06.94-2.06 2.06-.94-2.06-.94-.94-2.06-.94 2.06-2.06.94zm-11 1L8.5 8.5l.94-2.06 2.06-.94-2.06-.94L8.5 2.5l-.94 2.06-2.06.94zm10 10l.94 2.06.94-2.06 2.06-.94-2.06-.94-.94-2.06-.94 2.06-2.06.94z\"/><path d=\"M17.41 7.96l-1.37-1.37c-.4-.4-.92-.59-1.43-.59-.52 0-1.04.2-1.43.59L10.3 9.45l-7.72 7.72c-.78.78-.78 2.05 0 2.83L4 21.41c.39.39.9.59 1.41.59.51 0 1.02-.2 1.41-.59l7.78-7.78 2.81-2.81c.8-.78.8-2.07 0-2.86zM5.41 20L4 18.59l7.72-7.72 1.47 1.35L5.41 20z\"/>\n",
              "  </svg>\n",
              "      </button>\n",
              "      \n",
              "  <style>\n",
              "    .colab-df-container {\n",
              "      display:flex;\n",
              "      flex-wrap:wrap;\n",
              "      gap: 12px;\n",
              "    }\n",
              "\n",
              "    .colab-df-convert {\n",
              "      background-color: #E8F0FE;\n",
              "      border: none;\n",
              "      border-radius: 50%;\n",
              "      cursor: pointer;\n",
              "      display: none;\n",
              "      fill: #1967D2;\n",
              "      height: 32px;\n",
              "      padding: 0 0 0 0;\n",
              "      width: 32px;\n",
              "    }\n",
              "\n",
              "    .colab-df-convert:hover {\n",
              "      background-color: #E2EBFA;\n",
              "      box-shadow: 0px 1px 2px rgba(60, 64, 67, 0.3), 0px 1px 3px 1px rgba(60, 64, 67, 0.15);\n",
              "      fill: #174EA6;\n",
              "    }\n",
              "\n",
              "    [theme=dark] .colab-df-convert {\n",
              "      background-color: #3B4455;\n",
              "      fill: #D2E3FC;\n",
              "    }\n",
              "\n",
              "    [theme=dark] .colab-df-convert:hover {\n",
              "      background-color: #434B5C;\n",
              "      box-shadow: 0px 1px 3px 1px rgba(0, 0, 0, 0.15);\n",
              "      filter: drop-shadow(0px 1px 2px rgba(0, 0, 0, 0.3));\n",
              "      fill: #FFFFFF;\n",
              "    }\n",
              "  </style>\n",
              "\n",
              "      <script>\n",
              "        const buttonEl =\n",
              "          document.querySelector('#df-d5bb179e-926c-4ee7-b81a-6ce3e554bf04 button.colab-df-convert');\n",
              "        buttonEl.style.display =\n",
              "          google.colab.kernel.accessAllowed ? 'block' : 'none';\n",
              "\n",
              "        async function convertToInteractive(key) {\n",
              "          const element = document.querySelector('#df-d5bb179e-926c-4ee7-b81a-6ce3e554bf04');\n",
              "          const dataTable =\n",
              "            await google.colab.kernel.invokeFunction('convertToInteractive',\n",
              "                                                     [key], {});\n",
              "          if (!dataTable) return;\n",
              "\n",
              "          const docLinkHtml = 'Like what you see? Visit the ' +\n",
              "            '<a target=\"_blank\" href=https://colab.research.google.com/notebooks/data_table.ipynb>data table notebook</a>'\n",
              "            + ' to learn more about interactive tables.';\n",
              "          element.innerHTML = '';\n",
              "          dataTable['output_type'] = 'display_data';\n",
              "          await google.colab.output.renderOutput(dataTable, element);\n",
              "          const docLink = document.createElement('div');\n",
              "          docLink.innerHTML = docLinkHtml;\n",
              "          element.appendChild(docLink);\n",
              "        }\n",
              "      </script>\n",
              "    </div>\n",
              "  </div>\n",
              "  "
            ]
          },
          "metadata": {},
          "execution_count": 2
        }
      ]
    },
    {
      "cell_type": "code",
      "source": [
        "#Los nombres de las columnas son los siguientes\n",
        "CLV.columns"
      ],
      "metadata": {
        "colab": {
          "base_uri": "https://localhost:8080/"
        },
        "id": "auUQPW_29EUv",
        "outputId": "c5625041-2b5f-4963-cb07-86cddc5878b1"
      },
      "execution_count": 3,
      "outputs": [
        {
          "output_type": "execute_result",
          "data": {
            "text/plain": [
              "Index(['ID', 'CLV', 'Ingresos', 'Monthly Premium Auto',\n",
              "       'Meses ultima reclamacion', 'Meses desde incio de la poliza',\n",
              "       'Num quejas abiertas', 'Numero de polizas',\n",
              "       'Importe total de la reclamacion', 'Response', 'cobertura', 'Educacion',\n",
              "       'Estatus de empleo', 'Genero', 'Location Code', 'Estatus marital',\n",
              "       'tipo de poliza', 'clase de vehiculo', 'Clasificacion'],\n",
              "      dtype='object')"
            ]
          },
          "metadata": {},
          "execution_count": 3
        }
      ]
    },
    {
      "cell_type": "code",
      "source": [
        "#Revisamos la cantidad de filas y columnas que tiene nuestro dataset\n",
        "CLV.shape"
      ],
      "metadata": {
        "colab": {
          "base_uri": "https://localhost:8080/"
        },
        "id": "4X06rFg-9Iij",
        "outputId": "c0d25a7e-0812-41e9-ed3d-7f5ccf2a3a91"
      },
      "execution_count": 4,
      "outputs": [
        {
          "output_type": "execute_result",
          "data": {
            "text/plain": [
              "(9134, 19)"
            ]
          },
          "metadata": {},
          "execution_count": 4
        }
      ]
    },
    {
      "cell_type": "markdown",
      "source": [
        "#Limpianos nuestro dataset"
      ],
      "metadata": {
        "id": "3ahihI3Q-JwF"
      }
    },
    {
      "cell_type": "code",
      "source": [
        "#Eliminamos el numero de cliente ya que no aporta nada para nuestro modelo de prediccion\n",
        "CLV=CLV.drop(['ID'], axis=1)"
      ],
      "metadata": {
        "id": "kRCgd7ce8sJG"
      },
      "execution_count": 5,
      "outputs": []
    },
    {
      "cell_type": "code",
      "source": [
        "#Revisamos los valores nulos\n",
        "CLV.isnull().sum()"
      ],
      "metadata": {
        "colab": {
          "base_uri": "https://localhost:8080/"
        },
        "id": "df7f_LO-9WHb",
        "outputId": "08764f51-8896-43da-9d53-2f18d5b9e66b"
      },
      "execution_count": 6,
      "outputs": [
        {
          "output_type": "execute_result",
          "data": {
            "text/plain": [
              "CLV                                0\n",
              "Ingresos                           0\n",
              "Monthly Premium Auto               0\n",
              "Meses ultima reclamacion           0\n",
              "Meses desde incio de la poliza     0\n",
              "Num quejas abiertas                0\n",
              "Numero de polizas                  0\n",
              "Importe total de la reclamacion    0\n",
              "Response                           0\n",
              "cobertura                          0\n",
              "Educacion                          0\n",
              "Estatus de empleo                  0\n",
              "Genero                             0\n",
              "Location Code                      0\n",
              "Estatus marital                    0\n",
              "tipo de poliza                     0\n",
              "clase de vehiculo                  0\n",
              "Clasificacion                      0\n",
              "dtype: int64"
            ]
          },
          "metadata": {},
          "execution_count": 6
        }
      ]
    },
    {
      "cell_type": "markdown",
      "source": [
        "No se tiene ningun registro nulo"
      ],
      "metadata": {
        "id": "QK4Y97W-9cSx"
      }
    },
    {
      "cell_type": "code",
      "source": [
        "#Revisamos los valores unicos\n",
        "CLV.nunique()"
      ],
      "metadata": {
        "colab": {
          "base_uri": "https://localhost:8080/"
        },
        "id": "06nwZFdb9Zx5",
        "outputId": "d69a25ea-f620-44bd-e13e-39d90bf9b682"
      },
      "execution_count": 7,
      "outputs": [
        {
          "output_type": "execute_result",
          "data": {
            "text/plain": [
              "CLV                                8041\n",
              "Ingresos                           5694\n",
              "Monthly Premium Auto                202\n",
              "Meses ultima reclamacion             36\n",
              "Meses desde incio de la poliza      100\n",
              "Num quejas abiertas                   6\n",
              "Numero de polizas                     9\n",
              "Importe total de la reclamacion    5106\n",
              "Response                              2\n",
              "cobertura                             3\n",
              "Educacion                             5\n",
              "Estatus de empleo                     5\n",
              "Genero                                2\n",
              "Location Code                         3\n",
              "Estatus marital                       3\n",
              "tipo de poliza                        3\n",
              "clase de vehiculo                     6\n",
              "Clasificacion                         3\n",
              "dtype: int64"
            ]
          },
          "metadata": {},
          "execution_count": 7
        }
      ]
    },
    {
      "cell_type": "code",
      "source": [
        "#Analizamos los valores duplicados\n",
        "CLV.duplicated().sum()"
      ],
      "metadata": {
        "colab": {
          "base_uri": "https://localhost:8080/"
        },
        "id": "o0599yvT9hqu",
        "outputId": "de3ee647-81c7-4295-e1b4-6440142b3da1"
      },
      "execution_count": 8,
      "outputs": [
        {
          "output_type": "execute_result",
          "data": {
            "text/plain": [
              "861"
            ]
          },
          "metadata": {},
          "execution_count": 8
        }
      ]
    },
    {
      "cell_type": "code",
      "source": [
        "#Eliminamos los valores duplicados\n",
        "CLV=CLV.drop_duplicates()"
      ],
      "metadata": {
        "id": "w6l--CWw84E_"
      },
      "execution_count": 9,
      "outputs": []
    },
    {
      "cell_type": "code",
      "source": [
        "#Confirmamos que los valores duplicados estan eliminados\n",
        "CLV.duplicated().sum()"
      ],
      "metadata": {
        "colab": {
          "base_uri": "https://localhost:8080/"
        },
        "id": "AFeP1yJ59kqr",
        "outputId": "b7823a5f-0bf9-4a0e-cfcc-6a91f24b5a09"
      },
      "execution_count": 10,
      "outputs": [
        {
          "output_type": "execute_result",
          "data": {
            "text/plain": [
              "0"
            ]
          },
          "metadata": {},
          "execution_count": 10
        }
      ]
    },
    {
      "cell_type": "code",
      "source": [
        "#Deriving living situation by marital status\"Alone\"\n",
        "CLV[\"Estatus marital\"]=CLV[\"Estatus marital\"].replace({\"Married\":\"Partner\", \"Divorced\":\"Alone\", \"Single\":\"Alone\",})"
      ],
      "metadata": {
        "id": "6dQu66WM-il4"
      },
      "execution_count": 11,
      "outputs": []
    },
    {
      "cell_type": "code",
      "source": [
        "#Segmenting education levels in three groups\n",
        "CLV[\"Educacion\"]=CLV[\"Educacion\"].replace({\"High School or Below\":\"Undergraduate\",\"Bachelor\":\"Undergraduate\", \"College\":\"Graduate\", \"Master\":\"Postgraduate\", \"Doctor\":\"Postgraduate\"})"
      ],
      "metadata": {
        "id": "2ljoLBLc-lek"
      },
      "execution_count": 12,
      "outputs": []
    },
    {
      "cell_type": "code",
      "source": [
        "#Segmentos el estatus de empleo en tres segmentos\n",
        "CLV[\"Estatus de empleo\"]=CLV[\"Estatus de empleo\"].replace({\"Medical Leave\":\"Retired\",\"Disabled\":\"Employed\"})"
      ],
      "metadata": {
        "id": "D-lTWD7I-obN"
      },
      "execution_count": 13,
      "outputs": []
    },
    {
      "cell_type": "markdown",
      "source": [
        "# Vizualizacion grafica de nuestros datos"
      ],
      "metadata": {
        "id": "puvIlTT6AvRg"
      }
    },
    {
      "cell_type": "code",
      "source": [
        "#Estatus de empleo\n",
        "sns.countplot(CLV['Estatus de empleo'])\n",
        "fig = plt.gcf()\n",
        "fig.set_size_inches(10,10)\n",
        "plt.title('Estatus de empleo')"
      ],
      "metadata": {
        "colab": {
          "base_uri": "https://localhost:8080/",
          "height": 693
        },
        "id": "mUMp03fwA0Sc",
        "outputId": "50004bb5-8847-41f8-b827-bb6cd65070e9"
      },
      "execution_count": null,
      "outputs": [
        {
          "output_type": "stream",
          "name": "stderr",
          "text": [
            "/usr/local/lib/python3.8/dist-packages/seaborn/_decorators.py:36: FutureWarning: Pass the following variable as a keyword arg: x. From version 0.12, the only valid positional argument will be `data`, and passing other arguments without an explicit keyword will result in an error or misinterpretation.\n",
            "  warnings.warn(\n"
          ]
        },
        {
          "output_type": "execute_result",
          "data": {
            "text/plain": [
              "Text(0.5, 1.0, 'Estatus de empleo')"
            ]
          },
          "metadata": {},
          "execution_count": 14
        },
        {
          "output_type": "display_data",
          "data": {
            "text/plain": [
              "<Figure size 720x720 with 1 Axes>"
            ],
            "image/png": "[encoded data removed]"
          },
          "metadata": {
            "needs_background": "light"
          }
        }
      ]
    },
    {
      "cell_type": "markdown",
      "source": [
        "La mayoria de los clientes cuentan con empleo"
      ],
      "metadata": {
        "id": "MKdQpXRqA9O8"
      }
    },
    {
      "cell_type": "code",
      "source": [
        "#Veamos la relacion entre el tipo de auto y el tipo de cobertura\n",
        "plt.figure(figsize=(10,8))\n",
        "sns.countplot(x='cobertura',hue='clase de vehiculo',data=CLV)\n",
        "plt.title('Relacion entre tipo de cobertura y clase de vehiculo')\n",
        "plt.show()"
      ],
      "metadata": {
        "colab": {
          "base_uri": "https://localhost:8080/",
          "height": 513
        },
        "id": "QnDwoq11BCNU",
        "outputId": "1f01e860-c857-4b8a-f04a-c7ade73ccc67"
      },
      "execution_count": null,
      "outputs": [
        {
          "output_type": "display_data",
          "data": {
            "text/plain": [
              "<Figure size 720x576 with 1 Axes>"
            ],
            "image/png": "[encoded data removed]"
          },
          "metadata": {
            "needs_background": "light"
          }
        }
      ]
    },
    {
      "cell_type": "code",
      "source": [
        "#Grafico de Pie de la distribucion de los tipos de vehiculos\n",
        "CLV['clase de vehiculo'].value_counts().plot.pie(autopct='%1.1f%%',shadow=True,figsize=(10,8))\n",
        "plt.show()"
      ],
      "metadata": {
        "colab": {
          "base_uri": "https://localhost:8080/",
          "height": 466
        },
        "id": "uhsB7_B_BZSw",
        "outputId": "4985484a-bd2b-4b37-bbd6-d3dc2eaee18b"
      },
      "execution_count": null,
      "outputs": [
        {
          "output_type": "display_data",
          "data": {
            "text/plain": [
              "<Figure size 720x576 with 1 Axes>"
            ],
            "image/png": "[encoded data removed]"
          },
          "metadata": {}
        }
      ]
    },
    {
      "cell_type": "markdown",
      "source": [
        "La mitad de los clientes tienen un auto de 4 puertas, seguido con el 20% que tienen un vehiculo de 2 puertas"
      ],
      "metadata": {
        "id": "-iN15XzVBkJj"
      }
    },
    {
      "cell_type": "code",
      "source": [
        "#Graico de CLV por clientes\n",
        "plt.hist(CLV['CLV'], bins = 10)\n",
        "plt.title(\"Customer Lifetime Value\") #Assign title \n",
        "plt.xlabel(\"Value\") #Assign x label \n",
        "plt.ylabel(\"Customers\") #Assign y label \n",
        "plt.show()"
      ],
      "metadata": {
        "colab": {
          "base_uri": "https://localhost:8080/",
          "height": 295
        },
        "id": "MET5S7UHB1BJ",
        "outputId": "ece4e023-f151-4a12-c8e1-e12e13d86740"
      },
      "execution_count": null,
      "outputs": [
        {
          "output_type": "display_data",
          "data": {
            "text/plain": [
              "<Figure size 432x288 with 1 Axes>"
            ],
            "image/png": "[encoded data removed]"
          },
          "metadata": {
            "needs_background": "light"
          }
        }
      ]
    },
    {
      "cell_type": "markdown",
      "source": [
        "El CLV suele estar entre los 2000 y los 9000, se analizaran los valores mayores para determinar si se trata de outliers"
      ],
      "metadata": {
        "id": "Mzbm3bxpCHNF"
      }
    },
    {
      "cell_type": "markdown",
      "source": [
        "#Analisis estadistico"
      ],
      "metadata": {
        "id": "7ogc2l30CgXJ"
      }
    },
    {
      "cell_type": "code",
      "source": [
        "#Analizamos los datos\n",
        "CLV.describe()"
      ],
      "metadata": {
        "colab": {
          "base_uri": "https://localhost:8080/",
          "height": 361
        },
        "id": "x5yST3iHCjre",
        "outputId": "bf1aeef8-622a-4288-c4fa-9d7e6c2c72a1"
      },
      "execution_count": null,
      "outputs": [
        {
          "output_type": "execute_result",
          "data": {
            "text/plain": [
              "                CLV      Ingresos  Monthly Premium Auto  \\\n",
              "count   8273.000000   8273.000000           8273.000000   \n",
              "mean    8023.748192  37622.867521             93.057537   \n",
              "std     6930.950731  30651.511325             34.173819   \n",
              "min     1898.007675      0.000000             61.000000   \n",
              "25%     4004.551300      0.000000             68.000000   \n",
              "50%     5800.772699  34115.000000             83.000000   \n",
              "75%     8935.034140  62464.000000            109.000000   \n",
              "max    83325.381190  99981.000000            298.000000   \n",
              "\n",
              "       Meses ultima reclamacion  Meses desde incio de la poliza  \\\n",
              "count               8273.000000                     8273.000000   \n",
              "mean                  15.128128                       48.029131   \n",
              "std                   10.101816                       27.980979   \n",
              "min                    0.000000                        0.000000   \n",
              "25%                    6.000000                       24.000000   \n",
              "50%                   14.000000                       48.000000   \n",
              "75%                   23.000000                       72.000000   \n",
              "max                   35.000000                       99.000000   \n",
              "\n",
              "       Num quejas abiertas  Numero de polizas  Importe total de la reclamacion  \n",
              "count          8273.000000        8273.000000                      8273.000000  \n",
              "mean              0.386559           2.977880                       432.283180  \n",
              "std               0.910381           2.386215                       294.789885  \n",
              "min               0.000000           1.000000                         0.099007  \n",
              "25%               0.000000           1.000000                       259.006614  \n",
              "50%               0.000000           2.000000                       379.200000  \n",
              "75%               0.000000           4.000000                       547.200000  \n",
              "max               5.000000           9.000000                      2893.239678  "
            ],
            "text/html": [
              "\n",
              "  <div id=\"df-4dc71a9b-45dd-4475-bde5-27c3b85e3819\">\n",
              "    <div class=\"colab-df-container\">\n",
              "      <div>\n",
              "<style scoped>\n",
              "    .dataframe tbody tr th:only-of-type {\n",
              "        vertical-align: middle;\n",
              "    }\n",
              "\n",
              "    .dataframe tbody tr th {\n",
              "        vertical-align: top;\n",
              "    }\n",
              "\n",
              "    .dataframe thead th {\n",
              "        text-align: right;\n",
              "    }\n",
              "</style>\n",
              "<table border=\"1\" class=\"dataframe\">\n",
              "  <thead>\n",
              "    <tr style=\"text-align: right;\">\n",
              "      <th></th>\n",
              "      <th>CLV</th>\n",
              "      <th>Ingresos</th>\n",
              "      <th>Monthly Premium Auto</th>\n",
              "      <th>Meses ultima reclamacion</th>\n",
              "      <th>Meses desde incio de la poliza</th>\n",
              "      <th>Num quejas abiertas</th>\n",
              "      <th>Numero de polizas</th>\n",
              "      <th>Importe total de la reclamacion</th>\n",
              "    </tr>\n",
              "  </thead>\n",
              "  <tbody>\n",
              "    <tr>\n",
              "      <th>count</th>\n",
              "      <td>8273.000000</td>\n",
              "      <td>8273.000000</td>\n",
              "      <td>8273.000000</td>\n",
              "      <td>8273.000000</td>\n",
              "      <td>8273.000000</td>\n",
              "      <td>8273.000000</td>\n",
              "      <td>8273.000000</td>\n",
              "      <td>8273.000000</td>\n",
              "    </tr>\n",
              "    <tr>\n",
              "      <th>mean</th>\n",
              "      <td>8023.748192</td>\n",
              "      <td>37622.867521</td>\n",
              "      <td>93.057537</td>\n",
              "      <td>15.128128</td>\n",
              "      <td>48.029131</td>\n",
              "      <td>0.386559</td>\n",
              "      <td>2.977880</td>\n",
              "      <td>432.283180</td>\n",
              "    </tr>\n",
              "    <tr>\n",
              "      <th>std</th>\n",
              "      <td>6930.950731</td>\n",
              "      <td>30651.511325</td>\n",
              "      <td>34.173819</td>\n",
              "      <td>10.101816</td>\n",
              "      <td>27.980979</td>\n",
              "      <td>0.910381</td>\n",
              "      <td>2.386215</td>\n",
              "      <td>294.789885</td>\n",
              "    </tr>\n",
              "    <tr>\n",
              "      <th>min</th>\n",
              "      <td>1898.007675</td>\n",
              "      <td>0.000000</td>\n",
              "      <td>61.000000</td>\n",
              "      <td>0.000000</td>\n",
              "      <td>0.000000</td>\n",
              "      <td>0.000000</td>\n",
              "      <td>1.000000</td>\n",
              "      <td>0.099007</td>\n",
              "    </tr>\n",
              "    <tr>\n",
              "      <th>25%</th>\n",
              "      <td>4004.551300</td>\n",
              "      <td>0.000000</td>\n",
              "      <td>68.000000</td>\n",
              "      <td>6.000000</td>\n",
              "      <td>24.000000</td>\n",
              "      <td>0.000000</td>\n",
              "      <td>1.000000</td>\n",
              "      <td>259.006614</td>\n",
              "    </tr>\n",
              "    <tr>\n",
              "      <th>50%</th>\n",
              "      <td>5800.772699</td>\n",
              "      <td>34115.000000</td>\n",
              "      <td>83.000000</td>\n",
              "      <td>14.000000</td>\n",
              "      <td>48.000000</td>\n",
              "      <td>0.000000</td>\n",
              "      <td>2.000000</td>\n",
              "      <td>379.200000</td>\n",
              "    </tr>\n",
              "    <tr>\n",
              "      <th>75%</th>\n",
              "      <td>8935.034140</td>\n",
              "      <td>62464.000000</td>\n",
              "      <td>109.000000</td>\n",
              "      <td>23.000000</td>\n",
              "      <td>72.000000</td>\n",
              "      <td>0.000000</td>\n",
              "      <td>4.000000</td>\n",
              "      <td>547.200000</td>\n",
              "    </tr>\n",
              "    <tr>\n",
              "      <th>max</th>\n",
              "      <td>83325.381190</td>\n",
              "      <td>99981.000000</td>\n",
              "      <td>298.000000</td>\n",
              "      <td>35.000000</td>\n",
              "      <td>99.000000</td>\n",
              "      <td>5.000000</td>\n",
              "      <td>9.000000</td>\n",
              "      <td>2893.239678</td>\n",
              "    </tr>\n",
              "  </tbody>\n",
              "</table>\n",
              "</div>\n",
              "      <button class=\"colab-df-convert\" onclick=\"convertToInteractive('df-4dc71a9b-45dd-4475-bde5-27c3b85e3819')\"\n",
              "              title=\"Convert this dataframe to an interactive table.\"\n",
              "              style=\"display:none;\">\n",
              "        \n",
              "  <svg xmlns=\"http://www.w3.org/2000/svg\" height=\"24px\"viewBox=\"0 0 24 24\"\n",
              "       width=\"24px\">\n",
              "    <path d=\"M0 0h24v24H0V0z\" fill=\"none\"/>\n",
              "    <path d=\"M18.56 5.44l.94 2.06.94-2.06 2.06-.94-2.06-.94-.94-2.06-.94 2.06-2.06.94zm-11 1L8.5 8.5l.94-2.06 2.06-.94-2.06-.94L8.5 2.5l-.94 2.06-2.06.94zm10 10l.94 2.06.94-2.06 2.06-.94-2.06-.94-.94-2.06-.94 2.06-2.06.94z\"/><path d=\"M17.41 7.96l-1.37-1.37c-.4-.4-.92-.59-1.43-.59-.52 0-1.04.2-1.43.59L10.3 9.45l-7.72 7.72c-.78.78-.78 2.05 0 2.83L4 21.41c.39.39.9.59 1.41.59.51 0 1.02-.2 1.41-.59l7.78-7.78 2.81-2.81c.8-.78.8-2.07 0-2.86zM5.41 20L4 18.59l7.72-7.72 1.47 1.35L5.41 20z\"/>\n",
              "  </svg>\n",
              "      </button>\n",
              "      \n",
              "  <style>\n",
              "    .colab-df-container {\n",
              "      display:flex;\n",
              "      flex-wrap:wrap;\n",
              "      gap: 12px;\n",
              "    }\n",
              "\n",
              "    .colab-df-convert {\n",
              "      background-color: #E8F0FE;\n",
              "      border: none;\n",
              "      border-radius: 50%;\n",
              "      cursor: pointer;\n",
              "      display: none;\n",
              "      fill: #1967D2;\n",
              "      height: 32px;\n",
              "      padding: 0 0 0 0;\n",
              "      width: 32px;\n",
              "    }\n",
              "\n",
              "    .colab-df-convert:hover {\n",
              "      background-color: #E2EBFA;\n",
              "      box-shadow: 0px 1px 2px rgba(60, 64, 67, 0.3), 0px 1px 3px 1px rgba(60, 64, 67, 0.15);\n",
              "      fill: #174EA6;\n",
              "    }\n",
              "\n",
              "    [theme=dark] .colab-df-convert {\n",
              "      background-color: #3B4455;\n",
              "      fill: #D2E3FC;\n",
              "    }\n",
              "\n",
              "    [theme=dark] .colab-df-convert:hover {\n",
              "      background-color: #434B5C;\n",
              "      box-shadow: 0px 1px 3px 1px rgba(0, 0, 0, 0.15);\n",
              "      filter: drop-shadow(0px 1px 2px rgba(0, 0, 0, 0.3));\n",
              "      fill: #FFFFFF;\n",
              "    }\n",
              "  </style>\n",
              "\n",
              "      <script>\n",
              "        const buttonEl =\n",
              "          document.querySelector('#df-4dc71a9b-45dd-4475-bde5-27c3b85e3819 button.colab-df-convert');\n",
              "        buttonEl.style.display =\n",
              "          google.colab.kernel.accessAllowed ? 'block' : 'none';\n",
              "\n",
              "        async function convertToInteractive(key) {\n",
              "          const element = document.querySelector('#df-4dc71a9b-45dd-4475-bde5-27c3b85e3819');\n",
              "          const dataTable =\n",
              "            await google.colab.kernel.invokeFunction('convertToInteractive',\n",
              "                                                     [key], {});\n",
              "          if (!dataTable) return;\n",
              "\n",
              "          const docLinkHtml = 'Like what you see? Visit the ' +\n",
              "            '<a target=\"_blank\" href=https://colab.research.google.com/notebooks/data_table.ipynb>data table notebook</a>'\n",
              "            + ' to learn more about interactive tables.';\n",
              "          element.innerHTML = '';\n",
              "          dataTable['output_type'] = 'display_data';\n",
              "          await google.colab.output.renderOutput(dataTable, element);\n",
              "          const docLink = document.createElement('div');\n",
              "          docLink.innerHTML = docLinkHtml;\n",
              "          element.appendChild(docLink);\n",
              "        }\n",
              "      </script>\n",
              "    </div>\n",
              "  </div>\n",
              "  "
            ]
          },
          "metadata": {},
          "execution_count": 18
        }
      ]
    },
    {
      "cell_type": "markdown",
      "source": [
        "Vemos una direfencia muy grande entre el 3er cuartil y el ultimo por lo que nos podria indicar que contamos con outliers en la variable CLV"
      ],
      "metadata": {
        "id": "gOiMGQBbDT-N"
      }
    },
    {
      "cell_type": "code",
      "source": [
        "#Graficamos el boxplot de nuestra variable CLV\n",
        "sns.boxplot(CLV['CLV'])"
      ],
      "metadata": {
        "colab": {
          "base_uri": "https://localhost:8080/",
          "height": 351
        },
        "id": "Ad_16LY_DuxR",
        "outputId": "0f7e7e6e-3d6e-47f0-abcc-ee3c38573c3f"
      },
      "execution_count": null,
      "outputs": [
        {
          "output_type": "stream",
          "name": "stderr",
          "text": [
            "/usr/local/lib/python3.8/dist-packages/seaborn/_decorators.py:36: FutureWarning: Pass the following variable as a keyword arg: x. From version 0.12, the only valid positional argument will be `data`, and passing other arguments without an explicit keyword will result in an error or misinterpretation.\n",
            "  warnings.warn(\n"
          ]
        },
        {
          "output_type": "execute_result",
          "data": {
            "text/plain": [
              "<matplotlib.axes._subplots.AxesSubplot at 0x7f5882e0d7f0>"
            ]
          },
          "metadata": {},
          "execution_count": 19
        },
        {
          "output_type": "display_data",
          "data": {
            "text/plain": [
              "<Figure size 432x288 with 1 Axes>"
            ],
            "image/png": "[encoded data removed]"
          },
          "metadata": {
            "needs_background": "light"
          }
        }
      ]
    },
    {
      "cell_type": "markdown",
      "source": [
        "De la boxplot observamos que los valores outliers parecen ser los mayores de 18 mil asi que veamos cuantos de los datos tienen un CLV mayor a 18 mil"
      ],
      "metadata": {
        "id": "OEf042xpEAnZ"
      }
    },
    {
      "cell_type": "code",
      "source": [
        "outliers = CLV[CLV['CLV'] >= 18000]\n",
        "len(outliers)"
      ],
      "metadata": {
        "colab": {
          "base_uri": "https://localhost:8080/"
        },
        "id": "euZLsoyREVCG",
        "outputId": "f6f7dae9-ca15-437b-8757-8cb1d4034f58"
      },
      "execution_count": 14,
      "outputs": [
        {
          "output_type": "execute_result",
          "data": {
            "text/plain": [
              "632"
            ]
          },
          "metadata": {},
          "execution_count": 14
        }
      ]
    },
    {
      "cell_type": "markdown",
      "source": [
        "De los 8300 son 632 valores los que superan un CLV de 18 mil, estos valores parecen fuera de proporcion por lo que seran eliminados para no afectar las clasificaciones del modelo"
      ],
      "metadata": {
        "id": "VnRQBY7FEl6c"
      }
    },
    {
      "cell_type": "code",
      "source": [
        "CLV.drop(CLV[(CLV['CLV'] >18000)].index, inplace=True)"
      ],
      "metadata": {
        "id": "CNyTsYp2E8KY"
      },
      "execution_count": 15,
      "outputs": []
    },
    {
      "cell_type": "code",
      "source": [
        "#Eliminamos la columna clv ya que tiene alta correlacion con nuestra variable respuesta \"clasificacion\" \n",
        "#ya que en base a esta se realizaron las clasificaciones\n",
        "CLV=CLV.drop(['CLV'], axis=1)"
      ],
      "metadata": {
        "id": "XpOCZNazFJQu"
      },
      "execution_count": 16,
      "outputs": []
    },
    {
      "cell_type": "code",
      "source": [
        "#Vizualizamos cuales son nuestras variables categoricas\n",
        "s = (CLV.dtypes == 'object')\n",
        "object_cols = list(s[s].index)\n",
        "\n",
        "print(\"Categorical variables in the dataset:\", object_cols)"
      ],
      "metadata": {
        "colab": {
          "base_uri": "https://localhost:8080/"
        },
        "id": "9nwXeWTlFXHq",
        "outputId": "337c89fd-0521-4c8c-ff0e-5bc96d098826"
      },
      "execution_count": 17,
      "outputs": [
        {
          "output_type": "stream",
          "name": "stdout",
          "text": [
            "Categorical variables in the dataset: ['Response', 'cobertura', 'Educacion', 'Estatus de empleo', 'Genero', 'Location Code', 'Estatus marital', 'tipo de poliza', 'clase de vehiculo', 'Clasificacion']\n"
          ]
        }
      ]
    },
    {
      "cell_type": "code",
      "source": [
        "#Label Encoding transformamos nuestras variables categoricas en varibles numericas\n",
        "LE=LabelEncoder()\n",
        "for i in object_cols:\n",
        "    CLV[i]=CLV[[i]].apply(LE.fit_transform)"
      ],
      "metadata": {
        "id": "Tx1t9mq9Fh_Z"
      },
      "execution_count": 18,
      "outputs": []
    },
    {
      "cell_type": "code",
      "source": [
        "CLV.head(4)"
      ],
      "metadata": {
        "colab": {
          "base_uri": "https://localhost:8080/",
          "height": 308
        },
        "id": "vZm_2R-HF_Zj",
        "outputId": "1add296e-0fb4-440c-fdc5-4a0996f52f6f"
      },
      "execution_count": 19,
      "outputs": [
        {
          "output_type": "execute_result",
          "data": {
            "text/plain": [
              "     Ingresos  Monthly Premium Auto  Meses ultima reclamacion  \\\n",
              "689     80991                   223                         5   \n",
              "690         0                    70                        15   \n",
              "691     21708                    68                        28   \n",
              "692     55437                    64                         5   \n",
              "\n",
              "     Meses desde incio de la poliza  Num quejas abiertas  Numero de polizas  \\\n",
              "689                              56                    0                  4   \n",
              "690                              44                    0                  2   \n",
              "691                              77                    0                  2   \n",
              "692                              78                    1                  2   \n",
              "\n",
              "     Importe total de la reclamacion  Response  cobertura  Educacion  \\\n",
              "689                       937.327881         0          1          2   \n",
              "690                       504.000000         0          0          2   \n",
              "691                       326.400000         0          0          0   \n",
              "692                       445.287788         0          0          0   \n",
              "\n",
              "     Estatus de empleo  Genero  Location Code  Estatus marital  \\\n",
              "689                  0       0              2                1   \n",
              "690                  2       0              1                0   \n",
              "691                  1       0              1                0   \n",
              "692                  0       1              1                1   \n",
              "\n",
              "     tipo de poliza  clase de vehiculo  Clasificacion  \n",
              "689               1                  2              0  \n",
              "690               1                  0              0  \n",
              "691               1                  0              0  \n",
              "692               1                  0              0  "
            ],
            "text/html": [
              "\n",
              "  <div id=\"df-cf8242e6-12f4-420a-bf69-60c2c767131a\">\n",
              "    <div class=\"colab-df-container\">\n",
              "      <div>\n",
              "<style scoped>\n",
              "    .dataframe tbody tr th:only-of-type {\n",
              "        vertical-align: middle;\n",
              "    }\n",
              "\n",
              "    .dataframe tbody tr th {\n",
              "        vertical-align: top;\n",
              "    }\n",
              "\n",
              "    .dataframe thead th {\n",
              "        text-align: right;\n",
              "    }\n",
              "</style>\n",
              "<table border=\"1\" class=\"dataframe\">\n",
              "  <thead>\n",
              "    <tr style=\"text-align: right;\">\n",
              "      <th></th>\n",
              "      <th>Ingresos</th>\n",
              "      <th>Monthly Premium Auto</th>\n",
              "      <th>Meses ultima reclamacion</th>\n",
              "      <th>Meses desde incio de la poliza</th>\n",
              "      <th>Num quejas abiertas</th>\n",
              "      <th>Numero de polizas</th>\n",
              "      <th>Importe total de la reclamacion</th>\n",
              "      <th>Response</th>\n",
              "      <th>cobertura</th>\n",
              "      <th>Educacion</th>\n",
              "      <th>Estatus de empleo</th>\n",
              "      <th>Genero</th>\n",
              "      <th>Location Code</th>\n",
              "      <th>Estatus marital</th>\n",
              "      <th>tipo de poliza</th>\n",
              "      <th>clase de vehiculo</th>\n",
              "      <th>Clasificacion</th>\n",
              "    </tr>\n",
              "  </thead>\n",
              "  <tbody>\n",
              "    <tr>\n",
              "      <th>689</th>\n",
              "      <td>80991</td>\n",
              "      <td>223</td>\n",
              "      <td>5</td>\n",
              "      <td>56</td>\n",
              "      <td>0</td>\n",
              "      <td>4</td>\n",
              "      <td>937.327881</td>\n",
              "      <td>0</td>\n",
              "      <td>1</td>\n",
              "      <td>2</td>\n",
              "      <td>0</td>\n",
              "      <td>0</td>\n",
              "      <td>2</td>\n",
              "      <td>1</td>\n",
              "      <td>1</td>\n",
              "      <td>2</td>\n",
              "      <td>0</td>\n",
              "    </tr>\n",
              "    <tr>\n",
              "      <th>690</th>\n",
              "      <td>0</td>\n",
              "      <td>70</td>\n",
              "      <td>15</td>\n",
              "      <td>44</td>\n",
              "      <td>0</td>\n",
              "      <td>2</td>\n",
              "      <td>504.000000</td>\n",
              "      <td>0</td>\n",
              "      <td>0</td>\n",
              "      <td>2</td>\n",
              "      <td>2</td>\n",
              "      <td>0</td>\n",
              "      <td>1</td>\n",
              "      <td>0</td>\n",
              "      <td>1</td>\n",
              "      <td>0</td>\n",
              "      <td>0</td>\n",
              "    </tr>\n",
              "    <tr>\n",
              "      <th>691</th>\n",
              "      <td>21708</td>\n",
              "      <td>68</td>\n",
              "      <td>28</td>\n",
              "      <td>77</td>\n",
              "      <td>0</td>\n",
              "      <td>2</td>\n",
              "      <td>326.400000</td>\n",
              "      <td>0</td>\n",
              "      <td>0</td>\n",
              "      <td>0</td>\n",
              "      <td>1</td>\n",
              "      <td>0</td>\n",
              "      <td>1</td>\n",
              "      <td>0</td>\n",
              "      <td>1</td>\n",
              "      <td>0</td>\n",
              "      <td>0</td>\n",
              "    </tr>\n",
              "    <tr>\n",
              "      <th>692</th>\n",
              "      <td>55437</td>\n",
              "      <td>64</td>\n",
              "      <td>5</td>\n",
              "      <td>78</td>\n",
              "      <td>1</td>\n",
              "      <td>2</td>\n",
              "      <td>445.287788</td>\n",
              "      <td>0</td>\n",
              "      <td>0</td>\n",
              "      <td>0</td>\n",
              "      <td>0</td>\n",
              "      <td>1</td>\n",
              "      <td>1</td>\n",
              "      <td>1</td>\n",
              "      <td>1</td>\n",
              "      <td>0</td>\n",
              "      <td>0</td>\n",
              "    </tr>\n",
              "  </tbody>\n",
              "</table>\n",
              "</div>\n",
              "      <button class=\"colab-df-convert\" onclick=\"convertToInteractive('df-cf8242e6-12f4-420a-bf69-60c2c767131a')\"\n",
              "              title=\"Convert this dataframe to an interactive table.\"\n",
              "              style=\"display:none;\">\n",
              "        \n",
              "  <svg xmlns=\"http://www.w3.org/2000/svg\" height=\"24px\"viewBox=\"0 0 24 24\"\n",
              "       width=\"24px\">\n",
              "    <path d=\"M0 0h24v24H0V0z\" fill=\"none\"/>\n",
              "    <path d=\"M18.56 5.44l.94 2.06.94-2.06 2.06-.94-2.06-.94-.94-2.06-.94 2.06-2.06.94zm-11 1L8.5 8.5l.94-2.06 2.06-.94-2.06-.94L8.5 2.5l-.94 2.06-2.06.94zm10 10l.94 2.06.94-2.06 2.06-.94-2.06-.94-.94-2.06-.94 2.06-2.06.94z\"/><path d=\"M17.41 7.96l-1.37-1.37c-.4-.4-.92-.59-1.43-.59-.52 0-1.04.2-1.43.59L10.3 9.45l-7.72 7.72c-.78.78-.78 2.05 0 2.83L4 21.41c.39.39.9.59 1.41.59.51 0 1.02-.2 1.41-.59l7.78-7.78 2.81-2.81c.8-.78.8-2.07 0-2.86zM5.41 20L4 18.59l7.72-7.72 1.47 1.35L5.41 20z\"/>\n",
              "  </svg>\n",
              "      </button>\n",
              "      \n",
              "  <style>\n",
              "    .colab-df-container {\n",
              "      display:flex;\n",
              "      flex-wrap:wrap;\n",
              "      gap: 12px;\n",
              "    }\n",
              "\n",
              "    .colab-df-convert {\n",
              "      background-color: #E8F0FE;\n",
              "      border: none;\n",
              "      border-radius: 50%;\n",
              "      cursor: pointer;\n",
              "      display: none;\n",
              "      fill: #1967D2;\n",
              "      height: 32px;\n",
              "      padding: 0 0 0 0;\n",
              "      width: 32px;\n",
              "    }\n",
              "\n",
              "    .colab-df-convert:hover {\n",
              "      background-color: #E2EBFA;\n",
              "      box-shadow: 0px 1px 2px rgba(60, 64, 67, 0.3), 0px 1px 3px 1px rgba(60, 64, 67, 0.15);\n",
              "      fill: #174EA6;\n",
              "    }\n",
              "\n",
              "    [theme=dark] .colab-df-convert {\n",
              "      background-color: #3B4455;\n",
              "      fill: #D2E3FC;\n",
              "    }\n",
              "\n",
              "    [theme=dark] .colab-df-convert:hover {\n",
              "      background-color: #434B5C;\n",
              "      box-shadow: 0px 1px 3px 1px rgba(0, 0, 0, 0.15);\n",
              "      filter: drop-shadow(0px 1px 2px rgba(0, 0, 0, 0.3));\n",
              "      fill: #FFFFFF;\n",
              "    }\n",
              "  </style>\n",
              "\n",
              "      <script>\n",
              "        const buttonEl =\n",
              "          document.querySelector('#df-cf8242e6-12f4-420a-bf69-60c2c767131a button.colab-df-convert');\n",
              "        buttonEl.style.display =\n",
              "          google.colab.kernel.accessAllowed ? 'block' : 'none';\n",
              "\n",
              "        async function convertToInteractive(key) {\n",
              "          const element = document.querySelector('#df-cf8242e6-12f4-420a-bf69-60c2c767131a');\n",
              "          const dataTable =\n",
              "            await google.colab.kernel.invokeFunction('convertToInteractive',\n",
              "                                                     [key], {});\n",
              "          if (!dataTable) return;\n",
              "\n",
              "          const docLinkHtml = 'Like what you see? Visit the ' +\n",
              "            '<a target=\"_blank\" href=https://colab.research.google.com/notebooks/data_table.ipynb>data table notebook</a>'\n",
              "            + ' to learn more about interactive tables.';\n",
              "          element.innerHTML = '';\n",
              "          dataTable['output_type'] = 'display_data';\n",
              "          await google.colab.output.renderOutput(dataTable, element);\n",
              "          const docLink = document.createElement('div');\n",
              "          docLink.innerHTML = docLinkHtml;\n",
              "          element.appendChild(docLink);\n",
              "        }\n",
              "      </script>\n",
              "    </div>\n",
              "  </div>\n",
              "  "
            ]
          },
          "metadata": {},
          "execution_count": 19
        }
      ]
    },
    {
      "cell_type": "code",
      "source": [
        "%pip install Fitter"
      ],
      "metadata": {
        "colab": {
          "base_uri": "https://localhost:8080/"
        },
        "id": "jh6DEUPqGaqo",
        "outputId": "3185da1d-76c0-48e3-96d3-b10628c52bf7"
      },
      "execution_count": null,
      "outputs": [
        {
          "output_type": "stream",
          "name": "stdout",
          "text": [
            "Looking in indexes: https://pypi.org/simple, https://us-python.pkg.dev/colab-wheels/public/simple/\n",
            "Collecting Fitter\n",
            "  Downloading fitter-1.5.2.tar.gz (27 kB)\n",
            "  Preparing metadata (setup.py) ... \u001b[?25l\u001b[?25hdone\n",
            "Requirement already satisfied: click in /usr/local/lib/python3.8/dist-packages (from Fitter) (7.1.2)\n",
            "Requirement already satisfied: joblib in /usr/local/lib/python3.8/dist-packages (from Fitter) (1.2.0)\n",
            "Requirement already satisfied: matplotlib in /usr/local/lib/python3.8/dist-packages (from Fitter) (3.2.2)\n",
            "Requirement already satisfied: numpy in /usr/local/lib/python3.8/dist-packages (from Fitter) (1.21.6)\n",
            "Requirement already satisfied: pandas in /usr/local/lib/python3.8/dist-packages (from Fitter) (1.3.5)\n",
            "Requirement already satisfied: scipy>=0.18 in /usr/local/lib/python3.8/dist-packages (from Fitter) (1.7.3)\n",
            "Requirement already satisfied: tqdm in /usr/local/lib/python3.8/dist-packages (from Fitter) (4.64.1)\n",
            "Requirement already satisfied: kiwisolver>=1.0.1 in /usr/local/lib/python3.8/dist-packages (from matplotlib->Fitter) (1.4.4)\n",
            "Requirement already satisfied: python-dateutil>=2.1 in /usr/local/lib/python3.8/dist-packages (from matplotlib->Fitter) (2.8.2)\n",
            "Requirement already satisfied: pyparsing!=2.0.4,!=2.1.2,!=2.1.6,>=2.0.1 in /usr/local/lib/python3.8/dist-packages (from matplotlib->Fitter) (3.0.9)\n",
            "Requirement already satisfied: cycler>=0.10 in /usr/local/lib/python3.8/dist-packages (from matplotlib->Fitter) (0.11.0)\n",
            "Requirement already satisfied: pytz>=2017.3 in /usr/local/lib/python3.8/dist-packages (from pandas->Fitter) (2022.7.1)\n",
            "Requirement already satisfied: six>=1.5 in /usr/local/lib/python3.8/dist-packages (from python-dateutil>=2.1->matplotlib->Fitter) (1.15.0)\n",
            "Building wheels for collected packages: Fitter\n",
            "  Building wheel for Fitter (setup.py) ... \u001b[?25l\u001b[?25hdone\n",
            "  Created wheel for Fitter: filename=fitter-1.5.2-py3-none-any.whl size=25609 sha256=b1b437645d5bc123a56722d13f5ae16c81f5b6ebc157eb5ce26bf39949692d74\n",
            "  Stored in directory: /root/.cache/pip/wheels/8e/6b/cb/628035771acab95dc84f200590b4838c7c3095a70ede67a25a\n",
            "Successfully built Fitter\n",
            "Installing collected packages: Fitter\n",
            "Successfully installed Fitter-1.5.2\n"
          ]
        }
      ]
    },
    {
      "cell_type": "code",
      "source": [
        "#Analizamos la distribucion de nuestros datos\n",
        "from fitter import Fitter, get_common_distributions\n",
        "distribuciones = ['cauchy', 'chi2', 'expon',  'exponpow', 'gamma',\n",
        "                  'norm', 'powerlaw', 'beta', 'logistic']\n",
        "\n",
        "fitter = Fitter(CLV.Clasificacion, distributions=distribuciones)\n",
        "fitter.fit()\n",
        "fitter.summary(Nbest=10, plot=False)"
      ],
      "metadata": {
        "colab": {
          "base_uri": "https://localhost:8080/",
          "height": 349
        },
        "id": "_LRz2Dj3GTGY",
        "outputId": "982086e5-84cf-46f4-cbcf-0b6ce938b3c0"
      },
      "execution_count": null,
      "outputs": [
        {
          "output_type": "stream",
          "name": "stderr",
          "text": [
            "Fitting 9 distributions: 100%|██████████| 9/9 [00:02<00:00,  3.17it/s]\n"
          ]
        },
        {
          "output_type": "execute_result",
          "data": {
            "text/plain": [
              "          sumsquare_error          aic           bic  kl_div  ks_statistic  \\\n",
              "beta           771.875137   242.522127 -17480.929110     inf      0.544530   \n",
              "exponpow       979.977934   248.565323 -15665.908235     inf      0.375130   \n",
              "powerlaw       980.711696   157.453298 -15660.189149     inf      0.544562   \n",
              "chi2           990.369876   269.950595 -15585.307680     inf      0.435250   \n",
              "logistic       990.549648   231.384429 -15592.862091     inf      0.312332   \n",
              "norm           990.827971   213.810295 -15590.715440     inf      0.340335   \n",
              "gamma          991.257984   214.598114 -15578.458729     inf      0.336704   \n",
              "expon          994.928308   212.536614 -15559.159989     inf      0.335709   \n",
              "cauchy        1009.750838  8500.335748 -15446.163337     inf      0.500000   \n",
              "\n",
              "          ks_pvalue  \n",
              "beta            0.0  \n",
              "exponpow        0.0  \n",
              "powerlaw        0.0  \n",
              "chi2            0.0  \n",
              "logistic        0.0  \n",
              "norm            0.0  \n",
              "gamma           0.0  \n",
              "expon           0.0  \n",
              "cauchy          0.0  "
            ],
            "text/html": [
              "\n",
              "  <div id=\"df-9615fb2f-fdda-4c0f-aa6b-ba39f8b15f9d\">\n",
              "    <div class=\"colab-df-container\">\n",
              "      <div>\n",
              "<style scoped>\n",
              "    .dataframe tbody tr th:only-of-type {\n",
              "        vertical-align: middle;\n",
              "    }\n",
              "\n",
              "    .dataframe tbody tr th {\n",
              "        vertical-align: top;\n",
              "    }\n",
              "\n",
              "    .dataframe thead th {\n",
              "        text-align: right;\n",
              "    }\n",
              "</style>\n",
              "<table border=\"1\" class=\"dataframe\">\n",
              "  <thead>\n",
              "    <tr style=\"text-align: right;\">\n",
              "      <th></th>\n",
              "      <th>sumsquare_error</th>\n",
              "      <th>aic</th>\n",
              "      <th>bic</th>\n",
              "      <th>kl_div</th>\n",
              "      <th>ks_statistic</th>\n",
              "      <th>ks_pvalue</th>\n",
              "    </tr>\n",
              "  </thead>\n",
              "  <tbody>\n",
              "    <tr>\n",
              "      <th>beta</th>\n",
              "      <td>771.875137</td>\n",
              "      <td>242.522127</td>\n",
              "      <td>-17480.929110</td>\n",
              "      <td>inf</td>\n",
              "      <td>0.544530</td>\n",
              "      <td>0.0</td>\n",
              "    </tr>\n",
              "    <tr>\n",
              "      <th>exponpow</th>\n",
              "      <td>979.977934</td>\n",
              "      <td>248.565323</td>\n",
              "      <td>-15665.908235</td>\n",
              "      <td>inf</td>\n",
              "      <td>0.375130</td>\n",
              "      <td>0.0</td>\n",
              "    </tr>\n",
              "    <tr>\n",
              "      <th>powerlaw</th>\n",
              "      <td>980.711696</td>\n",
              "      <td>157.453298</td>\n",
              "      <td>-15660.189149</td>\n",
              "      <td>inf</td>\n",
              "      <td>0.544562</td>\n",
              "      <td>0.0</td>\n",
              "    </tr>\n",
              "    <tr>\n",
              "      <th>chi2</th>\n",
              "      <td>990.369876</td>\n",
              "      <td>269.950595</td>\n",
              "      <td>-15585.307680</td>\n",
              "      <td>inf</td>\n",
              "      <td>0.435250</td>\n",
              "      <td>0.0</td>\n",
              "    </tr>\n",
              "    <tr>\n",
              "      <th>logistic</th>\n",
              "      <td>990.549648</td>\n",
              "      <td>231.384429</td>\n",
              "      <td>-15592.862091</td>\n",
              "      <td>inf</td>\n",
              "      <td>0.312332</td>\n",
              "      <td>0.0</td>\n",
              "    </tr>\n",
              "    <tr>\n",
              "      <th>norm</th>\n",
              "      <td>990.827971</td>\n",
              "      <td>213.810295</td>\n",
              "      <td>-15590.715440</td>\n",
              "      <td>inf</td>\n",
              "      <td>0.340335</td>\n",
              "      <td>0.0</td>\n",
              "    </tr>\n",
              "    <tr>\n",
              "      <th>gamma</th>\n",
              "      <td>991.257984</td>\n",
              "      <td>214.598114</td>\n",
              "      <td>-15578.458729</td>\n",
              "      <td>inf</td>\n",
              "      <td>0.336704</td>\n",
              "      <td>0.0</td>\n",
              "    </tr>\n",
              "    <tr>\n",
              "      <th>expon</th>\n",
              "      <td>994.928308</td>\n",
              "      <td>212.536614</td>\n",
              "      <td>-15559.159989</td>\n",
              "      <td>inf</td>\n",
              "      <td>0.335709</td>\n",
              "      <td>0.0</td>\n",
              "    </tr>\n",
              "    <tr>\n",
              "      <th>cauchy</th>\n",
              "      <td>1009.750838</td>\n",
              "      <td>8500.335748</td>\n",
              "      <td>-15446.163337</td>\n",
              "      <td>inf</td>\n",
              "      <td>0.500000</td>\n",
              "      <td>0.0</td>\n",
              "    </tr>\n",
              "  </tbody>\n",
              "</table>\n",
              "</div>\n",
              "      <button class=\"colab-df-convert\" onclick=\"convertToInteractive('df-9615fb2f-fdda-4c0f-aa6b-ba39f8b15f9d')\"\n",
              "              title=\"Convert this dataframe to an interactive table.\"\n",
              "              style=\"display:none;\">\n",
              "        \n",
              "  <svg xmlns=\"http://www.w3.org/2000/svg\" height=\"24px\"viewBox=\"0 0 24 24\"\n",
              "       width=\"24px\">\n",
              "    <path d=\"M0 0h24v24H0V0z\" fill=\"none\"/>\n",
              "    <path d=\"M18.56 5.44l.94 2.06.94-2.06 2.06-.94-2.06-.94-.94-2.06-.94 2.06-2.06.94zm-11 1L8.5 8.5l.94-2.06 2.06-.94-2.06-.94L8.5 2.5l-.94 2.06-2.06.94zm10 10l.94 2.06.94-2.06 2.06-.94-2.06-.94-.94-2.06-.94 2.06-2.06.94z\"/><path d=\"M17.41 7.96l-1.37-1.37c-.4-.4-.92-.59-1.43-.59-.52 0-1.04.2-1.43.59L10.3 9.45l-7.72 7.72c-.78.78-.78 2.05 0 2.83L4 21.41c.39.39.9.59 1.41.59.51 0 1.02-.2 1.41-.59l7.78-7.78 2.81-2.81c.8-.78.8-2.07 0-2.86zM5.41 20L4 18.59l7.72-7.72 1.47 1.35L5.41 20z\"/>\n",
              "  </svg>\n",
              "      </button>\n",
              "      \n",
              "  <style>\n",
              "    .colab-df-container {\n",
              "      display:flex;\n",
              "      flex-wrap:wrap;\n",
              "      gap: 12px;\n",
              "    }\n",
              "\n",
              "    .colab-df-convert {\n",
              "      background-color: #E8F0FE;\n",
              "      border: none;\n",
              "      border-radius: 50%;\n",
              "      cursor: pointer;\n",
              "      display: none;\n",
              "      fill: #1967D2;\n",
              "      height: 32px;\n",
              "      padding: 0 0 0 0;\n",
              "      width: 32px;\n",
              "    }\n",
              "\n",
              "    .colab-df-convert:hover {\n",
              "      background-color: #E2EBFA;\n",
              "      box-shadow: 0px 1px 2px rgba(60, 64, 67, 0.3), 0px 1px 3px 1px rgba(60, 64, 67, 0.15);\n",
              "      fill: #174EA6;\n",
              "    }\n",
              "\n",
              "    [theme=dark] .colab-df-convert {\n",
              "      background-color: #3B4455;\n",
              "      fill: #D2E3FC;\n",
              "    }\n",
              "\n",
              "    [theme=dark] .colab-df-convert:hover {\n",
              "      background-color: #434B5C;\n",
              "      box-shadow: 0px 1px 3px 1px rgba(0, 0, 0, 0.15);\n",
              "      filter: drop-shadow(0px 1px 2px rgba(0, 0, 0, 0.3));\n",
              "      fill: #FFFFFF;\n",
              "    }\n",
              "  </style>\n",
              "\n",
              "      <script>\n",
              "        const buttonEl =\n",
              "          document.querySelector('#df-9615fb2f-fdda-4c0f-aa6b-ba39f8b15f9d button.colab-df-convert');\n",
              "        buttonEl.style.display =\n",
              "          google.colab.kernel.accessAllowed ? 'block' : 'none';\n",
              "\n",
              "        async function convertToInteractive(key) {\n",
              "          const element = document.querySelector('#df-9615fb2f-fdda-4c0f-aa6b-ba39f8b15f9d');\n",
              "          const dataTable =\n",
              "            await google.colab.kernel.invokeFunction('convertToInteractive',\n",
              "                                                     [key], {});\n",
              "          if (!dataTable) return;\n",
              "\n",
              "          const docLinkHtml = 'Like what you see? Visit the ' +\n",
              "            '<a target=\"_blank\" href=https://colab.research.google.com/notebooks/data_table.ipynb>data table notebook</a>'\n",
              "            + ' to learn more about interactive tables.';\n",
              "          element.innerHTML = '';\n",
              "          dataTable['output_type'] = 'display_data';\n",
              "          await google.colab.output.renderOutput(dataTable, element);\n",
              "          const docLink = document.createElement('div');\n",
              "          docLink.innerHTML = docLinkHtml;\n",
              "          element.appendChild(docLink);\n",
              "        }\n",
              "      </script>\n",
              "    </div>\n",
              "  </div>\n",
              "  "
            ]
          },
          "metadata": {},
          "execution_count": 28
        }
      ]
    },
    {
      "cell_type": "code",
      "source": [
        "# Correlación entre columnas numéricas\n",
        "def tidy_corr_matrix(corr_mat):\n",
        "    '''\n",
        "    Función para convertir una matrix de correlación de pandas en formato tidy\n",
        "    '''\n",
        "    corr_mat = corr_mat.stack().reset_index()\n",
        "    corr_mat.columns = ['variable_1','variable_2','r']\n",
        "    corr_mat = corr_mat.loc[corr_mat['variable_1'] != corr_mat['variable_2'], :]\n",
        "    corr_mat['abs_r'] = np.abs(corr_mat['r'])\n",
        "    corr_mat = corr_mat.sort_values('abs_r', ascending=False)\n",
        "    \n",
        "    return(corr_mat)\n",
        "\n",
        "\n",
        "\n",
        "corr_matrix = CLV.select_dtypes(include=['float64', 'int']).corr(method='pearson')\n",
        "tidy_corr_matrix(corr_matrix).head(10)"
      ],
      "metadata": {
        "colab": {
          "base_uri": "https://localhost:8080/",
          "height": 363
        },
        "id": "1B_9OIk7GryP",
        "outputId": "016adff5-2b0f-452d-e0ed-dcb6808d73fa"
      },
      "execution_count": null,
      "outputs": [
        {
          "output_type": "execute_result",
          "data": {
            "text/plain": [
              "                          variable_1                       variable_2  \\\n",
              "170                Estatus de empleo                         Ingresos   \n",
              "10                          Ingresos                Estatus de empleo   \n",
              "103  Importe total de la reclamacion             Monthly Premium Auto   \n",
              "23              Monthly Premium Auto  Importe total de la reclamacion   \n",
              "137                        cobertura             Monthly Premium Auto   \n",
              "25              Monthly Premium Auto                        cobertura   \n",
              "112  Importe total de la reclamacion                Estatus de empleo   \n",
              "176                Estatus de empleo  Importe total de la reclamacion   \n",
              "102  Importe total de la reclamacion                         Ingresos   \n",
              "6                           Ingresos  Importe total de la reclamacion   \n",
              "\n",
              "            r     abs_r  \n",
              "170 -0.780190  0.780190  \n",
              "10  -0.780190  0.780190  \n",
              "103  0.603737  0.603737  \n",
              "23   0.603737  0.603737  \n",
              "137  0.458955  0.458955  \n",
              "25   0.458955  0.458955  \n",
              "112  0.376589  0.376589  \n",
              "176  0.376589  0.376589  \n",
              "102 -0.373154  0.373154  \n",
              "6   -0.373154  0.373154  "
            ],
            "text/html": [
              "\n",
              "  <div id=\"df-8ce5aed3-5314-4b3c-8f49-966c1bf6c030\">\n",
              "    <div class=\"colab-df-container\">\n",
              "      <div>\n",
              "<style scoped>\n",
              "    .dataframe tbody tr th:only-of-type {\n",
              "        vertical-align: middle;\n",
              "    }\n",
              "\n",
              "    .dataframe tbody tr th {\n",
              "        vertical-align: top;\n",
              "    }\n",
              "\n",
              "    .dataframe thead th {\n",
              "        text-align: right;\n",
              "    }\n",
              "</style>\n",
              "<table border=\"1\" class=\"dataframe\">\n",
              "  <thead>\n",
              "    <tr style=\"text-align: right;\">\n",
              "      <th></th>\n",
              "      <th>variable_1</th>\n",
              "      <th>variable_2</th>\n",
              "      <th>r</th>\n",
              "      <th>abs_r</th>\n",
              "    </tr>\n",
              "  </thead>\n",
              "  <tbody>\n",
              "    <tr>\n",
              "      <th>170</th>\n",
              "      <td>Estatus de empleo</td>\n",
              "      <td>Ingresos</td>\n",
              "      <td>-0.780190</td>\n",
              "      <td>0.780190</td>\n",
              "    </tr>\n",
              "    <tr>\n",
              "      <th>10</th>\n",
              "      <td>Ingresos</td>\n",
              "      <td>Estatus de empleo</td>\n",
              "      <td>-0.780190</td>\n",
              "      <td>0.780190</td>\n",
              "    </tr>\n",
              "    <tr>\n",
              "      <th>103</th>\n",
              "      <td>Importe total de la reclamacion</td>\n",
              "      <td>Monthly Premium Auto</td>\n",
              "      <td>0.603737</td>\n",
              "      <td>0.603737</td>\n",
              "    </tr>\n",
              "    <tr>\n",
              "      <th>23</th>\n",
              "      <td>Monthly Premium Auto</td>\n",
              "      <td>Importe total de la reclamacion</td>\n",
              "      <td>0.603737</td>\n",
              "      <td>0.603737</td>\n",
              "    </tr>\n",
              "    <tr>\n",
              "      <th>137</th>\n",
              "      <td>cobertura</td>\n",
              "      <td>Monthly Premium Auto</td>\n",
              "      <td>0.458955</td>\n",
              "      <td>0.458955</td>\n",
              "    </tr>\n",
              "    <tr>\n",
              "      <th>25</th>\n",
              "      <td>Monthly Premium Auto</td>\n",
              "      <td>cobertura</td>\n",
              "      <td>0.458955</td>\n",
              "      <td>0.458955</td>\n",
              "    </tr>\n",
              "    <tr>\n",
              "      <th>112</th>\n",
              "      <td>Importe total de la reclamacion</td>\n",
              "      <td>Estatus de empleo</td>\n",
              "      <td>0.376589</td>\n",
              "      <td>0.376589</td>\n",
              "    </tr>\n",
              "    <tr>\n",
              "      <th>176</th>\n",
              "      <td>Estatus de empleo</td>\n",
              "      <td>Importe total de la reclamacion</td>\n",
              "      <td>0.376589</td>\n",
              "      <td>0.376589</td>\n",
              "    </tr>\n",
              "    <tr>\n",
              "      <th>102</th>\n",
              "      <td>Importe total de la reclamacion</td>\n",
              "      <td>Ingresos</td>\n",
              "      <td>-0.373154</td>\n",
              "      <td>0.373154</td>\n",
              "    </tr>\n",
              "    <tr>\n",
              "      <th>6</th>\n",
              "      <td>Ingresos</td>\n",
              "      <td>Importe total de la reclamacion</td>\n",
              "      <td>-0.373154</td>\n",
              "      <td>0.373154</td>\n",
              "    </tr>\n",
              "  </tbody>\n",
              "</table>\n",
              "</div>\n",
              "      <button class=\"colab-df-convert\" onclick=\"convertToInteractive('df-8ce5aed3-5314-4b3c-8f49-966c1bf6c030')\"\n",
              "              title=\"Convert this dataframe to an interactive table.\"\n",
              "              style=\"display:none;\">\n",
              "        \n",
              "  <svg xmlns=\"http://www.w3.org/2000/svg\" height=\"24px\"viewBox=\"0 0 24 24\"\n",
              "       width=\"24px\">\n",
              "    <path d=\"M0 0h24v24H0V0z\" fill=\"none\"/>\n",
              "    <path d=\"M18.56 5.44l.94 2.06.94-2.06 2.06-.94-2.06-.94-.94-2.06-.94 2.06-2.06.94zm-11 1L8.5 8.5l.94-2.06 2.06-.94-2.06-.94L8.5 2.5l-.94 2.06-2.06.94zm10 10l.94 2.06.94-2.06 2.06-.94-2.06-.94-.94-2.06-.94 2.06-2.06.94z\"/><path d=\"M17.41 7.96l-1.37-1.37c-.4-.4-.92-.59-1.43-.59-.52 0-1.04.2-1.43.59L10.3 9.45l-7.72 7.72c-.78.78-.78 2.05 0 2.83L4 21.41c.39.39.9.59 1.41.59.51 0 1.02-.2 1.41-.59l7.78-7.78 2.81-2.81c.8-.78.8-2.07 0-2.86zM5.41 20L4 18.59l7.72-7.72 1.47 1.35L5.41 20z\"/>\n",
              "  </svg>\n",
              "      </button>\n",
              "      \n",
              "  <style>\n",
              "    .colab-df-container {\n",
              "      display:flex;\n",
              "      flex-wrap:wrap;\n",
              "      gap: 12px;\n",
              "    }\n",
              "\n",
              "    .colab-df-convert {\n",
              "      background-color: #E8F0FE;\n",
              "      border: none;\n",
              "      border-radius: 50%;\n",
              "      cursor: pointer;\n",
              "      display: none;\n",
              "      fill: #1967D2;\n",
              "      height: 32px;\n",
              "      padding: 0 0 0 0;\n",
              "      width: 32px;\n",
              "    }\n",
              "\n",
              "    .colab-df-convert:hover {\n",
              "      background-color: #E2EBFA;\n",
              "      box-shadow: 0px 1px 2px rgba(60, 64, 67, 0.3), 0px 1px 3px 1px rgba(60, 64, 67, 0.15);\n",
              "      fill: #174EA6;\n",
              "    }\n",
              "\n",
              "    [theme=dark] .colab-df-convert {\n",
              "      background-color: #3B4455;\n",
              "      fill: #D2E3FC;\n",
              "    }\n",
              "\n",
              "    [theme=dark] .colab-df-convert:hover {\n",
              "      background-color: #434B5C;\n",
              "      box-shadow: 0px 1px 3px 1px rgba(0, 0, 0, 0.15);\n",
              "      filter: drop-shadow(0px 1px 2px rgba(0, 0, 0, 0.3));\n",
              "      fill: #FFFFFF;\n",
              "    }\n",
              "  </style>\n",
              "\n",
              "      <script>\n",
              "        const buttonEl =\n",
              "          document.querySelector('#df-8ce5aed3-5314-4b3c-8f49-966c1bf6c030 button.colab-df-convert');\n",
              "        buttonEl.style.display =\n",
              "          google.colab.kernel.accessAllowed ? 'block' : 'none';\n",
              "\n",
              "        async function convertToInteractive(key) {\n",
              "          const element = document.querySelector('#df-8ce5aed3-5314-4b3c-8f49-966c1bf6c030');\n",
              "          const dataTable =\n",
              "            await google.colab.kernel.invokeFunction('convertToInteractive',\n",
              "                                                     [key], {});\n",
              "          if (!dataTable) return;\n",
              "\n",
              "          const docLinkHtml = 'Like what you see? Visit the ' +\n",
              "            '<a target=\"_blank\" href=https://colab.research.google.com/notebooks/data_table.ipynb>data table notebook</a>'\n",
              "            + ' to learn more about interactive tables.';\n",
              "          element.innerHTML = '';\n",
              "          dataTable['output_type'] = 'display_data';\n",
              "          await google.colab.output.renderOutput(dataTable, element);\n",
              "          const docLink = document.createElement('div');\n",
              "          docLink.innerHTML = docLinkHtml;\n",
              "          element.appendChild(docLink);\n",
              "        }\n",
              "      </script>\n",
              "    </div>\n",
              "  </div>\n",
              "  "
            ]
          },
          "metadata": {},
          "execution_count": 29
        }
      ]
    },
    {
      "cell_type": "code",
      "source": [
        "# Heatmap matriz de correlaciones\n",
        "fig, ax = plt.subplots(nrows=1, ncols=1, figsize=(14, 9))\n",
        "\n",
        "sns.heatmap(\n",
        "    corr_matrix,\n",
        "    annot     = True,\n",
        "    cbar      = False,\n",
        "    annot_kws = {\"size\": 6},\n",
        "    vmin      = -1,\n",
        "    vmax      = 1,\n",
        "    center    = 0,\n",
        "    cmap      = sns.diverging_palette(20, 220, n=200),\n",
        "    square    = True,\n",
        "    ax        = ax\n",
        ")\n",
        "ax.set_xticklabels(\n",
        "    ax.get_xticklabels(),\n",
        "    rotation = 45,\n",
        "    horizontalalignment = 'right',\n",
        ")\n",
        "\n",
        "ax.tick_params(labelsize = 8)"
      ],
      "metadata": {
        "colab": {
          "base_uri": "https://localhost:8080/",
          "height": 624
        },
        "id": "mYVO8ndeG4gQ",
        "outputId": "1a8f61f2-7dee-4b51-ada3-f59dc0e423bb"
      },
      "execution_count": null,
      "outputs": [
        {
          "output_type": "display_data",
          "data": {
            "text/plain": [
              "<Figure size 1008x648 with 1 Axes>"
            ],
            "image/png": "[encoded data removed]"
          },
          "metadata": {
            "needs_background": "light"
          }
        }
      ]
    },
    {
      "cell_type": "code",
      "source": [
        "#Analizamos un modelo de regresion multiple para nuestras variables\n",
        "y= CLV['Clasificacion'] #the column we want to predict \n",
        "x= CLV.drop(labels = ['Clasificacion'], axis = 1)  #independent columns "
      ],
      "metadata": {
        "id": "1C50cUTmHKcj"
      },
      "execution_count": null,
      "outputs": []
    },
    {
      "cell_type": "code",
      "source": [
        "import statsmodels.api as sm\n",
        "ks = sm.OLS(y,x)\n",
        "ks_res =ks.fit()\n",
        "ks_res.summary()"
      ],
      "metadata": {
        "colab": {
          "base_uri": "https://localhost:8080/",
          "height": 789
        },
        "id": "ytuZ0VDiHwxx",
        "outputId": "1b9c37f2-f2ef-4123-a86d-13d85971d01d"
      },
      "execution_count": null,
      "outputs": [
        {
          "output_type": "execute_result",
          "data": {
            "text/plain": [
              "<class 'statsmodels.iolib.summary.Summary'>\n",
              "\"\"\"\n",
              "                                 OLS Regression Results                                \n",
              "=======================================================================================\n",
              "Dep. Variable:          Clasificacion   R-squared (uncentered):                   0.760\n",
              "Model:                            OLS   Adj. R-squared (uncentered):              0.759\n",
              "Method:                 Least Squares   F-statistic:                              1507.\n",
              "Date:                Tue, 21 Feb 2023   Prob (F-statistic):                        0.00\n",
              "Time:                        04:29:52   Log-Likelihood:                         -8814.8\n",
              "No. Observations:                7641   AIC:                                  1.766e+04\n",
              "Df Residuals:                    7625   BIC:                                  1.777e+04\n",
              "Df Model:                          16                                                  \n",
              "Covariance Type:            nonrobust                                                  \n",
              "===================================================================================================\n",
              "                                      coef    std err          t      P>|t|      [0.025      0.975]\n",
              "---------------------------------------------------------------------------------------------------\n",
              "Ingresos                         5.844e-06   4.18e-07     13.991      0.000    5.03e-06    6.66e-06\n",
              "Monthly Premium Auto                0.0005      0.000      1.441      0.150      -0.000       0.001\n",
              "Meses ultima reclamacion            0.0071      0.001      8.519      0.000       0.005       0.009\n",
              "Meses desde incio de la poliza      0.0028      0.000      9.242      0.000       0.002       0.003\n",
              "Num quejas abiertas                 0.0430      0.009      4.533      0.000       0.024       0.062\n",
              "Numero de polizas                   0.1069      0.004     30.528      0.000       0.100       0.114\n",
              "Importe total de la reclamacion    -0.0001   4.87e-05     -2.797      0.005      -0.000   -4.08e-05\n",
              "Response                            0.0084      0.039      0.215      0.829      -0.068       0.084\n",
              "cobertura                          -0.1476      0.015     -9.663      0.000      -0.177      -0.118\n",
              "Educacion                           0.0836      0.010      8.711      0.000       0.065       0.102\n",
              "Estatus de empleo                   0.2318      0.015     15.810      0.000       0.203       0.260\n",
              "Genero                              0.0788      0.017      4.520      0.000       0.045       0.113\n",
              "Location Code                       0.1238      0.015      8.435      0.000       0.095       0.153\n",
              "Estatus marital                     0.1167      0.019      6.245      0.000       0.080       0.153\n",
              "tipo de poliza                      0.1391      0.017      8.010      0.000       0.105       0.173\n",
              "clase de vehiculo                   0.0005      0.004      0.110      0.913      -0.008       0.009\n",
              "==============================================================================\n",
              "Omnibus:                      512.996   Durbin-Watson:                   0.322\n",
              "Prob(Omnibus):                  0.000   Jarque-Bera (JB):              613.934\n",
              "Skew:                          -0.687   Prob(JB):                    4.85e-134\n",
              "Kurtosis:                       2.803   Cond. No.                     2.15e+05\n",
              "==============================================================================\n",
              "\n",
              "Notes:\n",
              "[1] R² is computed without centering (uncentered) since the model does not contain a constant.\n",
              "[2] Standard Errors assume that the covariance matrix of the errors is correctly specified.\n",
              "[3] The condition number is large, 2.15e+05. This might indicate that there are\n",
              "strong multicollinearity or other numerical problems.\n",
              "\"\"\""
            ],
            "text/html": [
              "<table class=\"simpletable\">\n",
              "<caption>OLS Regression Results</caption>\n",
              "<tr>\n",
              "  <th>Dep. Variable:</th>      <td>Clasificacion</td>  <th>  R-squared (uncentered):</th>      <td>   0.760</td> \n",
              "</tr>\n",
              "<tr>\n",
              "  <th>Model:</th>                   <td>OLS</td>       <th>  Adj. R-squared (uncentered):</th> <td>   0.759</td> \n",
              "</tr>\n",
              "<tr>\n",
              "  <th>Method:</th>             <td>Least Squares</td>  <th>  F-statistic:       </th>          <td>   1507.</td> \n",
              "</tr>\n",
              "<tr>\n",
              "  <th>Date:</th>             <td>Tue, 21 Feb 2023</td> <th>  Prob (F-statistic):</th>           <td>  0.00</td>  \n",
              "</tr>\n",
              "<tr>\n",
              "  <th>Time:</th>                 <td>04:29:52</td>     <th>  Log-Likelihood:    </th>          <td> -8814.8</td> \n",
              "</tr>\n",
              "<tr>\n",
              "  <th>No. Observations:</th>      <td>  7641</td>      <th>  AIC:               </th>          <td>1.766e+04</td>\n",
              "</tr>\n",
              "<tr>\n",
              "  <th>Df Residuals:</th>          <td>  7625</td>      <th>  BIC:               </th>          <td>1.777e+04</td>\n",
              "</tr>\n",
              "<tr>\n",
              "  <th>Df Model:</th>              <td>    16</td>      <th>                     </th>              <td> </td>    \n",
              "</tr>\n",
              "<tr>\n",
              "  <th>Covariance Type:</th>      <td>nonrobust</td>    <th>                     </th>              <td> </td>    \n",
              "</tr>\n",
              "</table>\n",
              "<table class=\"simpletable\">\n",
              "<tr>\n",
              "                 <td></td>                    <th>coef</th>     <th>std err</th>      <th>t</th>      <th>P>|t|</th>  <th>[0.025</th>    <th>0.975]</th>  \n",
              "</tr>\n",
              "<tr>\n",
              "  <th>Ingresos</th>                        <td> 5.844e-06</td> <td> 4.18e-07</td> <td>   13.991</td> <td> 0.000</td> <td> 5.03e-06</td> <td> 6.66e-06</td>\n",
              "</tr>\n",
              "<tr>\n",
              "  <th>Monthly Premium Auto</th>            <td>    0.0005</td> <td>    0.000</td> <td>    1.441</td> <td> 0.150</td> <td>   -0.000</td> <td>    0.001</td>\n",
              "</tr>\n",
              "<tr>\n",
              "  <th>Meses ultima reclamacion</th>        <td>    0.0071</td> <td>    0.001</td> <td>    8.519</td> <td> 0.000</td> <td>    0.005</td> <td>    0.009</td>\n",
              "</tr>\n",
              "<tr>\n",
              "  <th>Meses desde incio de la poliza</th>  <td>    0.0028</td> <td>    0.000</td> <td>    9.242</td> <td> 0.000</td> <td>    0.002</td> <td>    0.003</td>\n",
              "</tr>\n",
              "<tr>\n",
              "  <th>Num quejas abiertas</th>             <td>    0.0430</td> <td>    0.009</td> <td>    4.533</td> <td> 0.000</td> <td>    0.024</td> <td>    0.062</td>\n",
              "</tr>\n",
              "<tr>\n",
              "  <th>Numero de polizas</th>               <td>    0.1069</td> <td>    0.004</td> <td>   30.528</td> <td> 0.000</td> <td>    0.100</td> <td>    0.114</td>\n",
              "</tr>\n",
              "<tr>\n",
              "  <th>Importe total de la reclamacion</th> <td>   -0.0001</td> <td> 4.87e-05</td> <td>   -2.797</td> <td> 0.005</td> <td>   -0.000</td> <td>-4.08e-05</td>\n",
              "</tr>\n",
              "<tr>\n",
              "  <th>Response</th>                        <td>    0.0084</td> <td>    0.039</td> <td>    0.215</td> <td> 0.829</td> <td>   -0.068</td> <td>    0.084</td>\n",
              "</tr>\n",
              "<tr>\n",
              "  <th>cobertura</th>                       <td>   -0.1476</td> <td>    0.015</td> <td>   -9.663</td> <td> 0.000</td> <td>   -0.177</td> <td>   -0.118</td>\n",
              "</tr>\n",
              "<tr>\n",
              "  <th>Educacion</th>                       <td>    0.0836</td> <td>    0.010</td> <td>    8.711</td> <td> 0.000</td> <td>    0.065</td> <td>    0.102</td>\n",
              "</tr>\n",
              "<tr>\n",
              "  <th>Estatus de empleo</th>               <td>    0.2318</td> <td>    0.015</td> <td>   15.810</td> <td> 0.000</td> <td>    0.203</td> <td>    0.260</td>\n",
              "</tr>\n",
              "<tr>\n",
              "  <th>Genero</th>                          <td>    0.0788</td> <td>    0.017</td> <td>    4.520</td> <td> 0.000</td> <td>    0.045</td> <td>    0.113</td>\n",
              "</tr>\n",
              "<tr>\n",
              "  <th>Location Code</th>                   <td>    0.1238</td> <td>    0.015</td> <td>    8.435</td> <td> 0.000</td> <td>    0.095</td> <td>    0.153</td>\n",
              "</tr>\n",
              "<tr>\n",
              "  <th>Estatus marital</th>                 <td>    0.1167</td> <td>    0.019</td> <td>    6.245</td> <td> 0.000</td> <td>    0.080</td> <td>    0.153</td>\n",
              "</tr>\n",
              "<tr>\n",
              "  <th>tipo de poliza</th>                  <td>    0.1391</td> <td>    0.017</td> <td>    8.010</td> <td> 0.000</td> <td>    0.105</td> <td>    0.173</td>\n",
              "</tr>\n",
              "<tr>\n",
              "  <th>clase de vehiculo</th>               <td>    0.0005</td> <td>    0.004</td> <td>    0.110</td> <td> 0.913</td> <td>   -0.008</td> <td>    0.009</td>\n",
              "</tr>\n",
              "</table>\n",
              "<table class=\"simpletable\">\n",
              "<tr>\n",
              "  <th>Omnibus:</th>       <td>512.996</td> <th>  Durbin-Watson:     </th> <td>   0.322</td> \n",
              "</tr>\n",
              "<tr>\n",
              "  <th>Prob(Omnibus):</th> <td> 0.000</td>  <th>  Jarque-Bera (JB):  </th> <td> 613.934</td> \n",
              "</tr>\n",
              "<tr>\n",
              "  <th>Skew:</th>          <td>-0.687</td>  <th>  Prob(JB):          </th> <td>4.85e-134</td>\n",
              "</tr>\n",
              "<tr>\n",
              "  <th>Kurtosis:</th>      <td> 2.803</td>  <th>  Cond. No.          </th> <td>2.15e+05</td> \n",
              "</tr>\n",
              "</table><br/><br/>Notes:<br/>[1] R² is computed without centering (uncentered) since the model does not contain a constant.<br/>[2] Standard Errors assume that the covariance matrix of the errors is correctly specified.<br/>[3] The condition number is large, 2.15e+05. This might indicate that there are<br/>strong multicollinearity or other numerical problems."
            ]
          },
          "metadata": {},
          "execution_count": 14
        }
      ]
    },
    {
      "cell_type": "markdown",
      "source": [
        "El modelo un buen r cuadrada ajustada de 76% por lo que analizaremos un modelo de aprendizaje automatico mas regresion lineal para ver los resultados"
      ],
      "metadata": {
        "id": "9_dbymReH3lp"
      }
    },
    {
      "cell_type": "markdown",
      "source": [
        "# Modelos de clasificacion"
      ],
      "metadata": {
        "id": "gYNdyHVuIYjQ"
      }
    },
    {
      "cell_type": "code",
      "source": [
        "#Primero analizamos la variable respuesta\n",
        "print(pd.value_counts(CLV['Clasificacion'], sort = True))"
      ],
      "metadata": {
        "colab": {
          "base_uri": "https://localhost:8080/"
        },
        "id": "t813VGe3Ib32",
        "outputId": "c487ee9c-59f8-40b7-a156-16532c4d58a5"
      },
      "execution_count": 20,
      "outputs": [
        {
          "output_type": "stream",
          "name": "stdout",
          "text": [
            "2    4161\n",
            "1    2066\n",
            "0    1414\n",
            "Name: Clasificacion, dtype: int64\n"
          ]
        }
      ]
    },
    {
      "cell_type": "markdown",
      "source": [
        "observamos que nuestros datos esta desbalanceados por lo que es necesarios un balanceo para evitar sesgo en nuestros modelos de clasificacion"
      ],
      "metadata": {
        "id": "Vzc_Xs6HIpYe"
      }
    },
    {
      "cell_type": "code",
      "source": [
        "#dividimos la variable dependiente de las independientes\n",
        "X = CLV.drop(['Clasificacion'], axis=1) # independientes\n",
        "y = CLV.Clasificacion # variable respuesta"
      ],
      "metadata": {
        "id": "M6jLPhEuI4oD"
      },
      "execution_count": 21,
      "outputs": []
    },
    {
      "cell_type": "markdown",
      "source": [
        "**Escalamos las variables**"
      ],
      "metadata": {
        "id": "z-VufxLI5FEw"
      }
    },
    {
      "cell_type": "code",
      "source": [
        "from sklearn.preprocessing import MinMaxScaler\n",
        "scaler = MinMaxScaler()\n",
        "X = scaler.fit_transform(X)"
      ],
      "metadata": {
        "id": "iy_wy0oR2m0B"
      },
      "execution_count": 22,
      "outputs": []
    },
    {
      "cell_type": "code",
      "source": [
        "# split X and y into training and testing sets\n",
        "X_train, X_test, y_train, y_test = train_test_split(X, y, test_size=0.25, random_state=16)"
      ],
      "metadata": {
        "id": "AXhV7VgFJJVR"
      },
      "execution_count": 23,
      "outputs": []
    },
    {
      "cell_type": "code",
      "source": [
        "#Analizamos un modelo de regresion logistica que autobalancea \n",
        "from sklearn.linear_model import LogisticRegression\n",
        "def run_model_balanced(X_train, X_test, y_train, y_test):\n",
        "    clf = LogisticRegression(C=1.0,penalty='l2',random_state=1,solver=\"newton-cg\",class_weight=\"balanced\")\n",
        "    clf.fit(X_train, y_train)\n",
        "    return clf"
      ],
      "metadata": {
        "id": "1xZHEEO6JQHT"
      },
      "execution_count": 24,
      "outputs": []
    },
    {
      "cell_type": "code",
      "source": [
        "model = run_model_balanced(X_train, X_test, y_train, y_test)\n",
        "pred_y = model.predict(X_test)"
      ],
      "metadata": {
        "id": "nslRUy_sJp1U"
      },
      "execution_count": 25,
      "outputs": []
    },
    {
      "cell_type": "code",
      "source": [
        "# import the metrics class\n",
        "from sklearn import metrics\n",
        "\n",
        "cnf_matrix = metrics.confusion_matrix(y_test, pred_y)\n",
        "cnf_matrix"
      ],
      "metadata": {
        "colab": {
          "base_uri": "https://localhost:8080/"
        },
        "id": "2jXxBJ9UJvsI",
        "outputId": "1aa3e8af-dba6-477f-981d-b5d7f16a31a2"
      },
      "execution_count": 26,
      "outputs": [
        {
          "output_type": "execute_result",
          "data": {
            "text/plain": [
              "array([[299,   0,  85],\n",
              "       [  0, 523,   1],\n",
              "       [207,  71, 725]])"
            ]
          },
          "metadata": {},
          "execution_count": 26
        }
      ]
    },
    {
      "cell_type": "code",
      "source": [
        "# import required modules\n",
        "import numpy as np\n",
        "import matplotlib.pyplot as plt\n",
        "import seaborn as sns\n",
        "\n",
        "class_names=[0,1] # name  of classes\n",
        "fig, ax = plt.subplots()\n",
        "tick_marks = np.arange(len(class_names))\n",
        "plt.xticks(tick_marks, class_names)\n",
        "plt.yticks(tick_marks, class_names)\n",
        "# create heatmap\n",
        "sns.heatmap(pd.DataFrame(cnf_matrix), annot=True, cmap=\"YlGnBu\" ,fmt='g')\n",
        "ax.xaxis.set_label_position(\"top\")\n",
        "plt.tight_layout()\n",
        "plt.title('Confusion matrix', y=1.1)\n",
        "plt.ylabel('Actual label')\n",
        "plt.xlabel('Predicted label')"
      ],
      "metadata": {
        "colab": {
          "base_uri": "https://localhost:8080/",
          "height": 355
        },
        "id": "1ZVees7VJ3QX",
        "outputId": "308a6250-1dc1-447b-dbd2-84dcae14642a"
      },
      "execution_count": 27,
      "outputs": [
        {
          "output_type": "execute_result",
          "data": {
            "text/plain": [
              "Text(0.5, 257.44, 'Predicted label')"
            ]
          },
          "metadata": {},
          "execution_count": 27
        },
        {
          "output_type": "display_data",
          "data": {
            "text/plain": [
              "<Figure size 432x288 with 2 Axes>"
            ],
            "image/png": "[encoded data removed]"
          },
          "metadata": {
            "needs_background": "light"
          }
        }
      ]
    },
    {
      "cell_type": "code",
      "source": [
        "precision = metrics.accuracy_score(pred_y, y_test) * 100\n",
        "precision"
      ],
      "metadata": {
        "colab": {
          "base_uri": "https://localhost:8080/"
        },
        "id": "Em-h8ATzJ6_q",
        "outputId": "33137ba8-3b7d-4039-b5a2-9a011dc25e1f"
      },
      "execution_count": 28,
      "outputs": [
        {
          "output_type": "execute_result",
          "data": {
            "text/plain": [
              "80.95238095238095"
            ]
          },
          "metadata": {},
          "execution_count": 28
        }
      ]
    },
    {
      "cell_type": "markdown",
      "source": [
        "Este modelo de regresion logistica que balancea los datos tiene un buen desempeño en la clasificacion de los clientes tiene una preciosion del 80%"
      ],
      "metadata": {
        "id": "dc1kyvQGKLnl"
      }
    },
    {
      "cell_type": "code",
      "source": [
        "from sklearn.metrics import classification_report\n",
        "target_names = ['Alta', 'Baja','Media']\n",
        "print(classification_report(y_test, pred_y, target_names=target_names))"
      ],
      "metadata": {
        "colab": {
          "base_uri": "https://localhost:8080/"
        },
        "id": "ymkqPfzeKcLS",
        "outputId": "ca8f3f8e-319b-4c25-f65a-332d38fa797f"
      },
      "execution_count": 31,
      "outputs": [
        {
          "output_type": "stream",
          "name": "stdout",
          "text": [
            "              precision    recall  f1-score   support\n",
            "\n",
            "        Alta       0.59      0.78      0.67       384\n",
            "        Baja       0.88      1.00      0.94       524\n",
            "       Media       0.89      0.72      0.80      1003\n",
            "\n",
            "    accuracy                           0.81      1911\n",
            "   macro avg       0.79      0.83      0.80      1911\n",
            "weighted avg       0.83      0.81      0.81      1911\n",
            "\n"
          ]
        }
      ]
    },
    {
      "cell_type": "markdown",
      "source": [
        "Ahora utilizaremos under sampling para balancear nuestros datos y comparar el desempeño del modelo anterior con otros algoritmos de aprendizaje automatico"
      ],
      "metadata": {
        "id": "5FN49N2YKzFt"
      }
    },
    {
      "cell_type": "code",
      "source": [
        "from imblearn.under_sampling import RandomUnderSampler\n",
        "under_sampler = RandomUnderSampler(random_state=42)\n",
        "X_res, y_res = under_sampler.fit_resample(X_train, y_train)\n",
        "print(f\"Training target statistics: {Counter(y_res)}\")\n",
        "print(f\"Testing target statistics: {Counter(y_test)}\")"
      ],
      "metadata": {
        "colab": {
          "base_uri": "https://localhost:8080/"
        },
        "id": "5CRhvXsYKrfo",
        "outputId": "79d4eba2-6ccd-4bf4-84da-0c276d95fc85"
      },
      "execution_count": 53,
      "outputs": [
        {
          "output_type": "stream",
          "name": "stdout",
          "text": [
            "Training target statistics: Counter({0: 1030, 1: 1030, 2: 1030})\n",
            "Testing target statistics: Counter({2: 1003, 1: 524, 0: 384})\n"
          ]
        }
      ]
    },
    {
      "cell_type": "code",
      "source": [
        "# Comparemos el desempeño de la regresion logistica con los resultados del modelo anterior\n",
        "# instantiate the model (using the default parameters)\n",
        "logreg = LogisticRegression(random_state=16)\n",
        "\n",
        "# fit the model with data\n",
        "logreg.fit(X_res, y_res)\n",
        "\n",
        "y_pred = logreg.predict(X_test)"
      ],
      "metadata": {
        "id": "PoQs1z8tLLQY"
      },
      "execution_count": 54,
      "outputs": []
    },
    {
      "cell_type": "code",
      "source": [
        "# import the metrics class\n",
        "from sklearn import metrics\n",
        "\n",
        "cnf_matrix = metrics.confusion_matrix(y_test, y_pred)\n",
        "cnf_matrix"
      ],
      "metadata": {
        "colab": {
          "base_uri": "https://localhost:8080/"
        },
        "id": "EowzklZDLbH5",
        "outputId": "2e4e18e8-ba85-4d04-e355-2ba12dc18351"
      },
      "execution_count": 57,
      "outputs": [
        {
          "output_type": "execute_result",
          "data": {
            "text/plain": [
              "array([[304,   0,  80],\n",
              "       [  2, 521,   1],\n",
              "       [214,  77, 712]])"
            ]
          },
          "metadata": {},
          "execution_count": 57
        }
      ]
    },
    {
      "cell_type": "code",
      "source": [
        "# import required modules\n",
        "import numpy as np\n",
        "import matplotlib.pyplot as plt\n",
        "import seaborn as sns\n",
        "\n",
        "class_names=[0,1] # name  of classes\n",
        "fig, ax = plt.subplots()\n",
        "tick_marks = np.arange(len(class_names))\n",
        "plt.xticks(tick_marks, class_names)\n",
        "plt.yticks(tick_marks, class_names)\n",
        "# create heatmap\n",
        "sns.heatmap(pd.DataFrame(cnf_matrix), annot=True, cmap=\"YlGnBu\" ,fmt='g')\n",
        "ax.xaxis.set_label_position(\"top\")\n",
        "plt.tight_layout()\n",
        "plt.title('Confusion matrix', y=1.1)\n",
        "plt.ylabel('Actual label')\n",
        "plt.xlabel('Predicted label')"
      ],
      "metadata": {
        "colab": {
          "base_uri": "https://localhost:8080/",
          "height": 355
        },
        "id": "EboSXwErLkfW",
        "outputId": "4b453eae-80b9-48e1-f6ab-bccae4a5d2f0"
      },
      "execution_count": 58,
      "outputs": [
        {
          "output_type": "execute_result",
          "data": {
            "text/plain": [
              "Text(0.5, 257.44, 'Predicted label')"
            ]
          },
          "metadata": {},
          "execution_count": 58
        },
        {
          "output_type": "display_data",
          "data": {
            "text/plain": [
              "<Figure size 432x288 with 2 Axes>"
            ],
            "image/png": "[encoded data removed]"
          },
          "metadata": {
            "needs_background": "light"
          }
        }
      ]
    },
    {
      "cell_type": "code",
      "source": [
        "from sklearn.metrics import classification_report\n",
        "target_names = ['Alta', 'Baja','Media']\n",
        "print(classification_report(y_test, y_pred, target_names=target_names))"
      ],
      "metadata": {
        "colab": {
          "base_uri": "https://localhost:8080/"
        },
        "id": "XLDfOx22LsFr",
        "outputId": "c17935d0-ce95-4d88-dfad-d715c886e473"
      },
      "execution_count": 59,
      "outputs": [
        {
          "output_type": "stream",
          "name": "stdout",
          "text": [
            "              precision    recall  f1-score   support\n",
            "\n",
            "        Alta       0.58      0.79      0.67       384\n",
            "        Baja       0.87      0.99      0.93       524\n",
            "       Media       0.90      0.71      0.79      1003\n",
            "\n",
            "    accuracy                           0.80      1911\n",
            "   macro avg       0.78      0.83      0.80      1911\n",
            "weighted avg       0.83      0.80      0.81      1911\n",
            "\n"
          ]
        }
      ]
    },
    {
      "cell_type": "code",
      "source": [
        "precision = metrics.accuracy_score(y_pred, y_test) * 100\n",
        "precision"
      ],
      "metadata": {
        "colab": {
          "base_uri": "https://localhost:8080/"
        },
        "id": "xu4e3WcSL2M8",
        "outputId": "b7f9123f-c6b5-49f2-881c-1522b3c67d0b"
      },
      "execution_count": 60,
      "outputs": [
        {
          "output_type": "execute_result",
          "data": {
            "text/plain": [
              "80.429094714809"
            ]
          },
          "metadata": {},
          "execution_count": 60
        }
      ]
    },
    {
      "cell_type": "markdown",
      "source": [
        "Observamos que el desempeño del algoritmo es similar en comparacion con la regresion logistica que balancea los datos en el mismo proceso"
      ],
      "metadata": {
        "id": "Y7fr2pi6L9fi"
      }
    },
    {
      "cell_type": "code",
      "source": [
        "#K nearest neighbor\n",
        "from sklearn.neighbors import KNeighborsClassifier\n",
        "knn = KNeighborsClassifier()\n",
        "\n",
        "#entremos el modelo\n",
        "knn.fit(X_res, y_res)\n",
        "\n",
        "y_pred = knn.predict(X_test)\n",
        "\n",
        "precision = metrics.accuracy_score(y_pred, y_test) * 100\n",
        "precision"
      ],
      "metadata": {
        "colab": {
          "base_uri": "https://localhost:8080/"
        },
        "id": "753CtulQMG72",
        "outputId": "7a79e43c-33f4-472e-90ec-0d1be8e10237"
      },
      "execution_count": 61,
      "outputs": [
        {
          "output_type": "execute_result",
          "data": {
            "text/plain": [
              "53.68916797488226"
            ]
          },
          "metadata": {},
          "execution_count": 61
        }
      ]
    },
    {
      "cell_type": "code",
      "source": [
        "from sklearn.metrics import classification_report\n",
        "target_names = ['Alta', 'Baja','Media']\n",
        "print(classification_report(y_test, y_pred, target_names=target_names))"
      ],
      "metadata": {
        "colab": {
          "base_uri": "https://localhost:8080/"
        },
        "id": "8gIdKVpTMU8N",
        "outputId": "a5cd7ea8-8ff6-4d12-e1d0-104b863e504e"
      },
      "execution_count": 63,
      "outputs": [
        {
          "output_type": "stream",
          "name": "stdout",
          "text": [
            "              precision    recall  f1-score   support\n",
            "\n",
            "        Alta       0.35      0.69      0.46       384\n",
            "        Baja       0.53      0.73      0.62       524\n",
            "       Media       0.87      0.38      0.53      1003\n",
            "\n",
            "    accuracy                           0.54      1911\n",
            "   macro avg       0.58      0.60      0.54      1911\n",
            "weighted avg       0.67      0.54      0.54      1911\n",
            "\n"
          ]
        }
      ]
    },
    {
      "cell_type": "markdown",
      "source": [
        "La presicion con KNN es mala en comparacion del primer modelo"
      ],
      "metadata": {
        "id": "kceJI_CeMZCL"
      }
    },
    {
      "cell_type": "code",
      "source": [
        "#Naive bayes\n",
        "from sklearn.naive_bayes import GaussianNB\n",
        "gnb = GaussianNB()\n",
        "\n",
        "#entremos el modelo\n",
        "gnb.fit(X_res, y_res)\n",
        "\n",
        "y_pred = gnb.predict(X_test)\n",
        "\n",
        "precision = metrics.accuracy_score(y_pred, y_test) * 100\n",
        "precision"
      ],
      "metadata": {
        "colab": {
          "base_uri": "https://localhost:8080/"
        },
        "id": "WTrNspo6MfHn",
        "outputId": "41619a6f-871d-4cec-b93b-b0a2e543bcb7"
      },
      "execution_count": 64,
      "outputs": [
        {
          "output_type": "execute_result",
          "data": {
            "text/plain": [
              "76.87074829931973"
            ]
          },
          "metadata": {},
          "execution_count": 64
        }
      ]
    },
    {
      "cell_type": "code",
      "source": [
        "from sklearn.metrics import classification_report\n",
        "target_names = ['Alta', 'Baja','Media']\n",
        "print(classification_report(y_test, y_pred, target_names=target_names))"
      ],
      "metadata": {
        "colab": {
          "base_uri": "https://localhost:8080/"
        },
        "id": "ZS7P7vO-Mm2E",
        "outputId": "88abc66e-7577-4241-a0f8-be3d1b3b4de4"
      },
      "execution_count": 65,
      "outputs": [
        {
          "output_type": "stream",
          "name": "stdout",
          "text": [
            "              precision    recall  f1-score   support\n",
            "\n",
            "        Alta       0.49      0.66      0.56       384\n",
            "        Baja       0.93      0.93      0.93       524\n",
            "       Media       0.84      0.73      0.78      1003\n",
            "\n",
            "    accuracy                           0.77      1911\n",
            "   macro avg       0.75      0.77      0.76      1911\n",
            "weighted avg       0.79      0.77      0.78      1911\n",
            "\n"
          ]
        }
      ]
    },
    {
      "cell_type": "markdown",
      "source": [
        "Con Naive bayes la presicion es buena pero la regresion logistica muestra un desempeño un poco mejor"
      ],
      "metadata": {
        "id": "dkVVq3sgMs8h"
      }
    },
    {
      "cell_type": "code",
      "source": [
        "#Maquina de soporte vectorial\n",
        "from sklearn.svm import SVC\n",
        "svm = SVC(kernel='linear')\n",
        "\n",
        "#entremos el modelo\n",
        "svm.fit(X_res, y_res)\n",
        "\n",
        "y_pred = svm.predict(X_test)\n",
        "\n",
        "precision = metrics.accuracy_score(y_pred, y_test) * 100\n",
        "precision"
      ],
      "metadata": {
        "id": "hGrMo5pTPe8J",
        "colab": {
          "base_uri": "https://localhost:8080/"
        },
        "outputId": "6342e54c-e8b0-4ecd-80cf-6c5f25c2038f"
      },
      "execution_count": 66,
      "outputs": [
        {
          "output_type": "execute_result",
          "data": {
            "text/plain": [
              "78.07430664573522"
            ]
          },
          "metadata": {},
          "execution_count": 66
        }
      ]
    },
    {
      "cell_type": "code",
      "source": [
        "target_names = ['Alta', 'Baja','Media']\n",
        "print(classification_report(y_test, y_pred, target_names=target_names))"
      ],
      "metadata": {
        "colab": {
          "base_uri": "https://localhost:8080/"
        },
        "id": "8gMyuMppQ3pz",
        "outputId": "5ecc8a09-8b1b-4b2a-d7af-ae07cdefcf8d"
      },
      "execution_count": 67,
      "outputs": [
        {
          "output_type": "stream",
          "name": "stdout",
          "text": [
            "              precision    recall  f1-score   support\n",
            "\n",
            "        Alta       0.50      0.84      0.63       384\n",
            "        Baja       0.93      0.93      0.93       524\n",
            "       Media       0.92      0.68      0.78      1003\n",
            "\n",
            "    accuracy                           0.78      1911\n",
            "   macro avg       0.78      0.82      0.78      1911\n",
            "weighted avg       0.84      0.78      0.79      1911\n",
            "\n"
          ]
        }
      ]
    },
    {
      "cell_type": "markdown",
      "source": [
        "El desempeño es practicamente el mismo que Naive bayes"
      ],
      "metadata": {
        "id": "UuBKa5FSPlut"
      }
    },
    {
      "cell_type": "code",
      "source": [
        "#Decision tree\n",
        "from sklearn.tree import DecisionTreeClassifier\n",
        "\n",
        "tre = DecisionTreeClassifier()\n",
        "\n",
        "#entremos el modelo\n",
        "tre.fit(X_res, y_res)\n",
        "\n",
        "y_pred = tre.predict(X_test)\n",
        "\n",
        "precision = metrics.accuracy_score(y_pred, y_test) * 100\n",
        "precision"
      ],
      "metadata": {
        "colab": {
          "base_uri": "https://localhost:8080/"
        },
        "id": "gdWUi1kIPhSE",
        "outputId": "b556561e-304d-41bf-d56b-480a724e0ea1"
      },
      "execution_count": 68,
      "outputs": [
        {
          "output_type": "execute_result",
          "data": {
            "text/plain": [
              "92.56933542647829"
            ]
          },
          "metadata": {},
          "execution_count": 68
        }
      ]
    },
    {
      "cell_type": "code",
      "source": [
        "# import the metrics class\n",
        "from sklearn import metrics\n",
        "\n",
        "cnf_matrix = metrics.confusion_matrix(y_test, y_pred)\n",
        "cnf_matrix"
      ],
      "metadata": {
        "colab": {
          "base_uri": "https://localhost:8080/"
        },
        "id": "69WXEzUZP22P",
        "outputId": "90b53fb8-8477-4fd3-ab65-adf3eda7f8ef"
      },
      "execution_count": 69,
      "outputs": [
        {
          "output_type": "execute_result",
          "data": {
            "text/plain": [
              "array([[358,   0,  26],\n",
              "       [  0, 515,   9],\n",
              "       [ 97,  10, 896]])"
            ]
          },
          "metadata": {},
          "execution_count": 69
        }
      ]
    },
    {
      "cell_type": "code",
      "source": [
        "import numpy as np\n",
        "import matplotlib.pyplot as plt\n",
        "import seaborn as sns\n",
        "\n",
        "class_names=[0,1] # name  of classes\n",
        "fig, ax = plt.subplots()\n",
        "tick_marks = np.arange(len(class_names))\n",
        "plt.xticks(tick_marks, class_names)\n",
        "plt.yticks(tick_marks, class_names)\n",
        "# create heatmap\n",
        "sns.heatmap(pd.DataFrame(cnf_matrix), annot=True, cmap=\"YlGnBu\" ,fmt='g')\n",
        "ax.xaxis.set_label_position(\"top\")\n",
        "plt.tight_layout()\n",
        "plt.title('Confusion matrix', y=1.1)\n",
        "plt.ylabel('Actual label')\n",
        "plt.xlabel('Predicted label')"
      ],
      "metadata": {
        "colab": {
          "base_uri": "https://localhost:8080/",
          "height": 355
        },
        "id": "GhjhE_HMP441",
        "outputId": "606781ce-d483-4072-8331-09780c37d877"
      },
      "execution_count": 70,
      "outputs": [
        {
          "output_type": "execute_result",
          "data": {
            "text/plain": [
              "Text(0.5, 257.44, 'Predicted label')"
            ]
          },
          "metadata": {},
          "execution_count": 70
        },
        {
          "output_type": "display_data",
          "data": {
            "text/plain": [
              "<Figure size 432x288 with 2 Axes>"
            ],
            "image/png": "[encoded data removed]"
          },
          "metadata": {
            "needs_background": "light"
          }
        }
      ]
    },
    {
      "cell_type": "code",
      "source": [
        "from sklearn.metrics import classification_report\n",
        "target_names = ['Alta', 'Baja','Media']\n",
        "print(classification_report(y_test, y_pred, target_names=target_names))"
      ],
      "metadata": {
        "colab": {
          "base_uri": "https://localhost:8080/"
        },
        "id": "zo0LLS0sP95O",
        "outputId": "fbcb93b3-af7d-46f6-c2f0-3562a4e88513"
      },
      "execution_count": 71,
      "outputs": [
        {
          "output_type": "stream",
          "name": "stdout",
          "text": [
            "              precision    recall  f1-score   support\n",
            "\n",
            "        Alta       0.79      0.93      0.85       384\n",
            "        Baja       0.98      0.98      0.98       524\n",
            "       Media       0.96      0.89      0.93      1003\n",
            "\n",
            "    accuracy                           0.93      1911\n",
            "   macro avg       0.91      0.94      0.92      1911\n",
            "weighted avg       0.93      0.93      0.93      1911\n",
            "\n"
          ]
        }
      ]
    },
    {
      "cell_type": "markdown",
      "source": [
        "Observamos un gran desempeño del algoritmo de desicion tree comparemos con los restantes para ver si es el mejor modelo para nuestros datos"
      ],
      "metadata": {
        "id": "ulD5zQMhQD97"
      }
    },
    {
      "cell_type": "code",
      "source": [
        "#Randomforest\n",
        "from sklearn.ensemble import RandomForestClassifier\n",
        "rdf = RandomForestClassifier(n_estimators=100)\n",
        "\n",
        "#entremos el modelo\n",
        "rdf.fit(X_res, y_res)\n",
        "\n",
        "y_pred = rdf.predict(X_test)\n",
        "\n",
        "precision = metrics.accuracy_score(y_pred, y_test) * 100\n",
        "precision"
      ],
      "metadata": {
        "colab": {
          "base_uri": "https://localhost:8080/"
        },
        "id": "kL1y5lYmQVYr",
        "outputId": "4d76e2de-7b22-4c6f-f6ba-db614b490b3e"
      },
      "execution_count": 72,
      "outputs": [
        {
          "output_type": "execute_result",
          "data": {
            "text/plain": [
              "92.62166405023548"
            ]
          },
          "metadata": {},
          "execution_count": 72
        }
      ]
    },
    {
      "cell_type": "code",
      "source": [
        "# import the metrics class\n",
        "from sklearn import metrics\n",
        "\n",
        "cnf_matrix = metrics.confusion_matrix(y_test, y_pred)\n",
        "cnf_matrix"
      ],
      "metadata": {
        "colab": {
          "base_uri": "https://localhost:8080/"
        },
        "id": "ZM-9bFSdQpVI",
        "outputId": "ee322c8a-d7e1-4627-b5c2-5770c37903ad"
      },
      "execution_count": 73,
      "outputs": [
        {
          "output_type": "execute_result",
          "data": {
            "text/plain": [
              "array([[372,   0,  12],\n",
              "       [  0, 514,  10],\n",
              "       [111,   8, 884]])"
            ]
          },
          "metadata": {},
          "execution_count": 73
        }
      ]
    },
    {
      "cell_type": "code",
      "source": [
        "import numpy as np\n",
        "import matplotlib.pyplot as plt\n",
        "import seaborn as sns\n",
        "\n",
        "class_names=[0,1] # name  of classes\n",
        "fig, ax = plt.subplots()\n",
        "tick_marks = np.arange(len(class_names))\n",
        "plt.xticks(tick_marks, class_names)\n",
        "plt.yticks(tick_marks, class_names)\n",
        "# create heatmap\n",
        "sns.heatmap(pd.DataFrame(cnf_matrix), annot=True, cmap=\"YlGnBu\" ,fmt='g')\n",
        "ax.xaxis.set_label_position(\"top\")\n",
        "plt.tight_layout()\n",
        "plt.title('Confusion matrix', y=1.1)\n",
        "plt.ylabel('Actual label')\n",
        "plt.xlabel('Predicted label')"
      ],
      "metadata": {
        "colab": {
          "base_uri": "https://localhost:8080/",
          "height": 355
        },
        "id": "4B7Q_le9Q9Cp",
        "outputId": "ac6a5410-cc84-47d8-c62a-df322ec990de"
      },
      "execution_count": 74,
      "outputs": [
        {
          "output_type": "execute_result",
          "data": {
            "text/plain": [
              "Text(0.5, 257.44, 'Predicted label')"
            ]
          },
          "metadata": {},
          "execution_count": 74
        },
        {
          "output_type": "display_data",
          "data": {
            "text/plain": [
              "<Figure size 432x288 with 2 Axes>"
            ],
            "image/png": "[encoded data removed]"
          },
          "metadata": {
            "needs_background": "light"
          }
        }
      ]
    },
    {
      "cell_type": "code",
      "source": [
        "from sklearn.metrics import classification_report\n",
        "target_names = ['Alta', 'Media','Baja']\n",
        "print(classification_report(y_test, y_pred, target_names=target_names))"
      ],
      "metadata": {
        "colab": {
          "base_uri": "https://localhost:8080/"
        },
        "id": "OD6v7cz1RBTr",
        "outputId": "dd04664c-3901-4b93-b7e2-b9aece056741"
      },
      "execution_count": 75,
      "outputs": [
        {
          "output_type": "stream",
          "name": "stdout",
          "text": [
            "              precision    recall  f1-score   support\n",
            "\n",
            "        Alta       0.77      0.97      0.86       384\n",
            "       Media       0.98      0.98      0.98       524\n",
            "        Baja       0.98      0.88      0.93      1003\n",
            "\n",
            "    accuracy                           0.93      1911\n",
            "   macro avg       0.91      0.94      0.92      1911\n",
            "weighted avg       0.94      0.93      0.93      1911\n",
            "\n"
          ]
        }
      ]
    },
    {
      "cell_type": "markdown",
      "source": [
        "Observamos un gran desempeño del algoritmo al igual que desicion tree solo es un poco mejor"
      ],
      "metadata": {
        "id": "Wgpa7y7_RPqP"
      }
    }
  ]
}